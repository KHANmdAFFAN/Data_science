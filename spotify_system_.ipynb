{
  "nbformat": 4,
  "nbformat_minor": 0,
  "metadata": {
    "colab": {
      "provenance": [],
      "collapsed_sections": [],
      "mount_file_id": "1jFvvOwaWUaEBP1JEBr9w628-vhBdks1A",
      "authorship_tag": "ABX9TyMQzHGFDBRCmT3d1DxVWouA",
      "include_colab_link": true
    },
    "kernelspec": {
      "name": "python3",
      "display_name": "Python 3"
    },
    "language_info": {
      "name": "python"
    },
    "accelerator": "GPU"
  },
  "cells": [
    {
      "cell_type": "markdown",
      "metadata": {
        "id": "view-in-github",
        "colab_type": "text"
      },
      "source": [
        "<a href=\"https://colab.research.google.com/github/KHANmdAFFAN/Data_science/blob/main/spotify_system_.ipynb\" target=\"_parent\"><img src=\"https://colab.research.google.com/assets/colab-badge.svg\" alt=\"Open In Colab\"/></a>"
      ]
    },
    {
      "cell_type": "markdown",
      "source": [
        "# Project Description "
      ],
      "metadata": {
        "id": "ZGsP9y7jqsdY"
      }
    },
    {
      "cell_type": "markdown",
      "source": [
        "##Spotify Playlist Recommendation System"
      ],
      "metadata": {
        "id": "5bHVH49qq8L4"
      }
    },
    {
      "cell_type": "markdown",
      "source": [
        "### Description of the Project\n",
        "The goal of the challenge is to develop a system for the task of automatic playlist continuation. given a set of playlist features, participants' systems shall generate a list of recommended tracks that can be added to that playlist, thereby \"continuing\" the playlist ```\n"
      ],
      "metadata": {
        "id": "PXShkuwYreao"
      }
    },
    {
      "cell_type": "markdown",
      "source": [
        "### Overall flow of the project\n",
        "the data is structured in arrays that typically contain 1,000 playlists. each playlist is a dictionary that contains the following fields:[]\n",
        "\n",
        "\n"
      ],
      "metadata": {
        "id": "71qF9mjcrra5"
      }
    },
    {
      "cell_type": "markdown",
      "source": [
        " * pid - integer - playlist id - the mpd id of this playlist. this is an integer between 0 and 999,999.\n",
        " \n",
        " * name - string - the name of the playlist\n",
        " \n",
        " * description - optional string - if present, the description given to the playlist. note that user-provided playlist descriptions are a relatively new feature of spotify, so most playlists do not have descriptions.\n",
        " \n",
        " * modified_at - seconds - timestamp (in seconds since the epoch) when this playlist was last updated. times are rounded to midnight gmt of the date when the playlist was last updated.\n",
        " \n",
        " * num_artists - the total number of unique artists for the tracks in the playlist.\n",
        " \n",
        " * num_albums - the number of unique albums for the tracks in the playlist \n",
        " \n",
        " *num_tracks - the number of tracks in the playlist\n",
        " \n",
        " * num_followers - the number of followers this playlist had at the time the mpd was created. (note that the follower count does not including the playlist creator) \n",
        " \n",
        " *num_edits - the number of separate editing sessions.Tracks added in a two hour window are considered to be added in a single editing session.\n",
        "\n",
        " *duration_ms - the total duration of all the tracks in the playlist (in milliseconds) \n",
        " \n",
        " *collaborative - boolean - if true, the playlist is a collaborative playlist. multiple users may contribute tracks to a collaborative playlist.\n",
        " \n",
        " * tracks - an array of information about each track in the playlist. each element in the array is a dictionary with the following fields:"
      ],
      "metadata": {
        "id": "Xm-PyDeRtRlU"
      }
    },
    {
      "cell_type": "code",
      "execution_count": null,
      "metadata": {
        "id": "2VO9p-x_pzmC"
      },
      "outputs": [],
      "source": [
        "#* track_name - the name of the track \n",
        "#* track_uri - the spotify uri of the track\n",
        "#* album_name - the name of the track's album \n",
        "#* album_uri - the spotify uri of the album \n",
        "#* artist_name - the name of the track's primary artist \n",
        "#* artist_uri - the spotify uri of track's primary artist \n",
        "#* duration_ms - the duration of the track in milliseconds \n",
        "#* pos - the position of the track in the playlist (zero-based)"
      ]
    },
    {
      "cell_type": "code",
      "source": [
        "\n",
        "import json as json\n",
        "import re\n",
        "import sys\n",
        "import itertools\n",
        "\n",
        "from sklearn.feature_extraction.text import TfidfVectorizer\n",
        "from sklearn.metrics.pairwise import cosine_similarity\n",
        "from sklearn.preprocessing import MinMaxScaler\n",
        "import matplotlib.pyplot as plt\n",
        "\n",
        "import pandas as pd #data manpulation\n",
        "import numpy as np\n",
        "import matplotlib.pyplot as plt #data visualization\n",
        "import seaborn as sns\n",
        "import scipy\n",
        "\n",
        "# 1) Cleaning + EDA + Standarization + Encoding \n",
        "import chardet #to detetmine dataset encoding\n",
        "\n",
        "from sklearn.preprocessing import StandardScaler # scaling data so mean = 0 and std =  1 by ((x- u) / std)\n",
        "from scipy import stats # for Box-Cox Transformation stats.boxcox(original_data)[0]\n",
        "from mlxtend.preprocessing import minmax_scaling # for min_max scaling dont use it\n",
        "#or\n",
        "from sklearn.preprocessing import MinMaxScaler,normalize  #Tune input range to be 0 -> 1 by MinMaxScaler, same as above\n",
        "\n",
        "#preprocessing: replace numeric and categorical\n",
        "from sklearn.impute import SimpleImputer\n",
        "from sklearn.preprocessing import LabelEncoder # label (ordinal or nominal)\n",
        "from sklearn.preprocessing import OrdinalEncoder # object (no order)\n",
        "from sklearn.preprocessing import OneHotEncoder # categorical \n",
        "\n",
        "# 2) feature enginerring\n",
        "from sklearn.feature_selection import mutual_info_regression #mutal importance of feature\n",
        "# a) numeric feature enginering\n",
        "from sklearn.cluster import KMeans # Kmeans model for cluster feature\n",
        "from IPython.display import display\n",
        "from sklearn.decomposition import PCA # for loadings and adding new feature\n",
        "\n",
        "#pipeline\n",
        "from sklearn.pipeline import Pipeline\n",
        "from sklearn.compose import ColumnTransformer\n",
        "\n",
        "import time\n",
        "\n"
      ],
      "metadata": {
        "id": "0zfPZ2A8vIp7"
      },
      "execution_count": null,
      "outputs": []
    },
    {
      "cell_type": "markdown",
      "source": [
        "## **Data Prepration Phase**\n",
        "\n",
        "In this phase we needed to flatten our data"
      ],
      "metadata": {
        "id": "uEDzunEzzGGU"
      }
    },
    {
      "cell_type": "code",
      "source": [
        "from google.colab import drive\n",
        "drive.mount(\"/content/drive\")"
      ],
      "metadata": {
        "colab": {
          "base_uri": "https://localhost:8080/"
        },
        "id": "k5H3_tGsvocD",
        "outputId": "a345eba3-907c-4074-b8e2-ef0bb63faad3"
      },
      "execution_count": null,
      "outputs": [
        {
          "output_type": "stream",
          "name": "stdout",
          "text": [
            "Drive already mounted at /content/drive; to attempt to forcibly remount, call drive.mount(\"/content/drive\", force_remount=True).\n"
          ]
        }
      ]
    },
    {
      "cell_type": "code",
      "source": [
        "data1 = json.load(open('/content/drive/MyDrive/Spotify_Playlist_Datasets.rar (Unzipped Files)/mpd.slice.0-999.json'))\n",
        "data2 = json.load(open('/content/drive/MyDrive/Spotify_Playlist_Datasets.rar (Unzipped Files)/mpd.slice.1000-1999.json'))\n",
        "data3 = json.load(open('/content/drive/MyDrive/Spotify_Playlist_Datasets.rar (Unzipped Files)/mpd.slice.2000-2999.json'))\n",
        "data4 = json.load(open('/content/drive/MyDrive/Spotify_Playlist_Datasets.rar (Unzipped Files)/mpd.slice.3000-3999.json'))\n",
        "\n",
        "df1= pd.DataFrame(data1['playlists'])\n",
        "df2= pd.DataFrame(data2['playlists'])\n",
        "df3= pd.DataFrame(data3['playlists'])\n",
        "df4= pd.DataFrame(data4['playlists'])\n",
        "\n",
        "df = pd.concat([df1,df2,df3,df4])\n",
        "\n",
        "df= df.explode('tracks')\n",
        "df= pd.concat([df.drop(['tracks'], axis=1), df['tracks'].apply(pd.Series)],axis=1)\n",
        "\n",
        "# renaming the columns with the same name \n",
        "df.columns=['name', 'collaborative', 'pid', 'modified_at', 'num_tracks', 'num_albums', 'num_followers', 'num_edits', 'playlist_duration_ms', 'num_artists', 'description', 'pos', 'artist_name', 'track_uri', 'artist_uri', 'track_name', 'album_uri', 'track_duration_ms', 'album_name']"
      ],
      "metadata": {
        "id": "QE5rh2-SvqJz"
      },
      "execution_count": null,
      "outputs": []
    },
    {
      "cell_type": "markdown",
      "source": [
        "And we have data ready to manipulate it :\n"
      ],
      "metadata": {
        "id": "qsYRy-aWzbfE"
      }
    },
    {
      "cell_type": "markdown",
      "source": [
        "## the current features are not enough to analyze the tracks so it's needed to extract more features from tracks uri\n",
        "\n",
        "### from above there are some features have uri in names , after searching i found this:\n",
        "\n",
        "A spotify uri (uniform resource indicator) is a link that you can find in the share menu of any track, album, or artist profile on spotify.\n",
        "\n",
        "When you click a link that consists of a spotify uri (rather than an http address), you're taken directly to the spotify application, without having to go through the web page first.\n"
      ],
      "metadata": {
        "id": "Wdv3nWAJzvDH"
      }
    },
    {
      "cell_type": "markdown",
      "source": [
        "## it could be used and extract more data by api spotipy ,but i already have the name of the track , artist and album in the dataset so i'm gonna take a copy of dataframe and remove the uri features before making any process"
      ],
      "metadata": {
        "id": "4NXVwWDf0MTf"
      }
    },
    {
      "cell_type": "code",
      "source": [
        "#extract uri \n",
        "df['track_uri']= df[\"track_uri\"].apply(lambda x: re.findall(r'\\w+$', str(x))[0])"
      ],
      "metadata": {
        "id": "rqehJq1Ixi2T"
      },
      "execution_count": null,
      "outputs": []
    },
    {
      "cell_type": "code",
      "source": [
        "df.head()"
      ],
      "metadata": {
        "id": "jn7NjiLv005I",
        "colab": {
          "base_uri": "https://localhost:8080/",
          "height": 444
        },
        "outputId": "9b5972b4-635a-4290-89cc-9f6b8ff297d2"
      },
      "execution_count": null,
      "outputs": [
        {
          "output_type": "execute_result",
          "data": {
            "text/plain": [
              "         name collaborative  pid  modified_at  num_tracks  num_albums  \\\n",
              "0  Throwbacks         false    0   1493424000          52          47   \n",
              "0  Throwbacks         false    0   1493424000          52          47   \n",
              "0  Throwbacks         false    0   1493424000          52          47   \n",
              "0  Throwbacks         false    0   1493424000          52          47   \n",
              "0  Throwbacks         false    0   1493424000          52          47   \n",
              "\n",
              "   num_followers  num_edits  playlist_duration_ms  num_artists description  \\\n",
              "0              1          6              11532414           37         NaN   \n",
              "0              1          6              11532414           37         NaN   \n",
              "0              1          6              11532414           37         NaN   \n",
              "0              1          6              11532414           37         NaN   \n",
              "0              1          6              11532414           37         NaN   \n",
              "\n",
              "   pos        artist_name               track_uri  \\\n",
              "0    0      Missy Elliott  0UaMYEvWZi0ZqiDOoHU3YI   \n",
              "0    1     Britney Spears  6I9VzXrHxO9rA9A5euc8Ak   \n",
              "0    2            Beyoncé  0WqIKmW4BTrj3eJFmnCKMv   \n",
              "0    3  Justin Timberlake  1AWQoqb9bSvzTjaLralEkT   \n",
              "0    4             Shaggy  1lzr43nnXAijIGYnCT8M8H   \n",
              "\n",
              "                              artist_uri  \\\n",
              "0  spotify:artist:2wIVse2owClT7go1WT98tk   \n",
              "0  spotify:artist:26dSoYclwsYLMAKD3tpOr4   \n",
              "0  spotify:artist:6vWDO969PvNqNYHIOW5v0m   \n",
              "0  spotify:artist:31TPClRtHm23RisEBtV3X7   \n",
              "0  spotify:artist:5EvFsr3kj42KNv97ZEnqij   \n",
              "\n",
              "                                   track_name  \\\n",
              "0  Lose Control (feat. Ciara & Fat Man Scoop)   \n",
              "0                                       Toxic   \n",
              "0                               Crazy In Love   \n",
              "0                              Rock Your Body   \n",
              "0                                It Wasn't Me   \n",
              "\n",
              "                              album_uri  track_duration_ms  \\\n",
              "0  spotify:album:6vV5UrXcfyQD1wu4Qo2I9K             226863   \n",
              "0  spotify:album:0z7pVBGOD7HCIB7S8eLkLI             198800   \n",
              "0  spotify:album:25hVFAxTlDvXbx2X2QkUkE             235933   \n",
              "0  spotify:album:6QPkyl04rXwTGlGlcYaRoW             267266   \n",
              "0  spotify:album:6NmFmPX56pcLBOFMhIiKvF             227600   \n",
              "\n",
              "                                     album_name  \n",
              "0                                  The Cookbook  \n",
              "0                                   In The Zone  \n",
              "0  Dangerously In Love (Alben für die Ewigkeit)  \n",
              "0                                     Justified  \n",
              "0                                      Hot Shot  "
            ],
            "text/html": [
              "\n",
              "  <div id=\"df-d3388d6a-3070-4fa4-b3bb-3ba99c6ab8d1\">\n",
              "    <div class=\"colab-df-container\">\n",
              "      <div>\n",
              "<style scoped>\n",
              "    .dataframe tbody tr th:only-of-type {\n",
              "        vertical-align: middle;\n",
              "    }\n",
              "\n",
              "    .dataframe tbody tr th {\n",
              "        vertical-align: top;\n",
              "    }\n",
              "\n",
              "    .dataframe thead th {\n",
              "        text-align: right;\n",
              "    }\n",
              "</style>\n",
              "<table border=\"1\" class=\"dataframe\">\n",
              "  <thead>\n",
              "    <tr style=\"text-align: right;\">\n",
              "      <th></th>\n",
              "      <th>name</th>\n",
              "      <th>collaborative</th>\n",
              "      <th>pid</th>\n",
              "      <th>modified_at</th>\n",
              "      <th>num_tracks</th>\n",
              "      <th>num_albums</th>\n",
              "      <th>num_followers</th>\n",
              "      <th>num_edits</th>\n",
              "      <th>playlist_duration_ms</th>\n",
              "      <th>num_artists</th>\n",
              "      <th>description</th>\n",
              "      <th>pos</th>\n",
              "      <th>artist_name</th>\n",
              "      <th>track_uri</th>\n",
              "      <th>artist_uri</th>\n",
              "      <th>track_name</th>\n",
              "      <th>album_uri</th>\n",
              "      <th>track_duration_ms</th>\n",
              "      <th>album_name</th>\n",
              "    </tr>\n",
              "  </thead>\n",
              "  <tbody>\n",
              "    <tr>\n",
              "      <th>0</th>\n",
              "      <td>Throwbacks</td>\n",
              "      <td>false</td>\n",
              "      <td>0</td>\n",
              "      <td>1493424000</td>\n",
              "      <td>52</td>\n",
              "      <td>47</td>\n",
              "      <td>1</td>\n",
              "      <td>6</td>\n",
              "      <td>11532414</td>\n",
              "      <td>37</td>\n",
              "      <td>NaN</td>\n",
              "      <td>0</td>\n",
              "      <td>Missy Elliott</td>\n",
              "      <td>0UaMYEvWZi0ZqiDOoHU3YI</td>\n",
              "      <td>spotify:artist:2wIVse2owClT7go1WT98tk</td>\n",
              "      <td>Lose Control (feat. Ciara &amp; Fat Man Scoop)</td>\n",
              "      <td>spotify:album:6vV5UrXcfyQD1wu4Qo2I9K</td>\n",
              "      <td>226863</td>\n",
              "      <td>The Cookbook</td>\n",
              "    </tr>\n",
              "    <tr>\n",
              "      <th>0</th>\n",
              "      <td>Throwbacks</td>\n",
              "      <td>false</td>\n",
              "      <td>0</td>\n",
              "      <td>1493424000</td>\n",
              "      <td>52</td>\n",
              "      <td>47</td>\n",
              "      <td>1</td>\n",
              "      <td>6</td>\n",
              "      <td>11532414</td>\n",
              "      <td>37</td>\n",
              "      <td>NaN</td>\n",
              "      <td>1</td>\n",
              "      <td>Britney Spears</td>\n",
              "      <td>6I9VzXrHxO9rA9A5euc8Ak</td>\n",
              "      <td>spotify:artist:26dSoYclwsYLMAKD3tpOr4</td>\n",
              "      <td>Toxic</td>\n",
              "      <td>spotify:album:0z7pVBGOD7HCIB7S8eLkLI</td>\n",
              "      <td>198800</td>\n",
              "      <td>In The Zone</td>\n",
              "    </tr>\n",
              "    <tr>\n",
              "      <th>0</th>\n",
              "      <td>Throwbacks</td>\n",
              "      <td>false</td>\n",
              "      <td>0</td>\n",
              "      <td>1493424000</td>\n",
              "      <td>52</td>\n",
              "      <td>47</td>\n",
              "      <td>1</td>\n",
              "      <td>6</td>\n",
              "      <td>11532414</td>\n",
              "      <td>37</td>\n",
              "      <td>NaN</td>\n",
              "      <td>2</td>\n",
              "      <td>Beyoncé</td>\n",
              "      <td>0WqIKmW4BTrj3eJFmnCKMv</td>\n",
              "      <td>spotify:artist:6vWDO969PvNqNYHIOW5v0m</td>\n",
              "      <td>Crazy In Love</td>\n",
              "      <td>spotify:album:25hVFAxTlDvXbx2X2QkUkE</td>\n",
              "      <td>235933</td>\n",
              "      <td>Dangerously In Love (Alben für die Ewigkeit)</td>\n",
              "    </tr>\n",
              "    <tr>\n",
              "      <th>0</th>\n",
              "      <td>Throwbacks</td>\n",
              "      <td>false</td>\n",
              "      <td>0</td>\n",
              "      <td>1493424000</td>\n",
              "      <td>52</td>\n",
              "      <td>47</td>\n",
              "      <td>1</td>\n",
              "      <td>6</td>\n",
              "      <td>11532414</td>\n",
              "      <td>37</td>\n",
              "      <td>NaN</td>\n",
              "      <td>3</td>\n",
              "      <td>Justin Timberlake</td>\n",
              "      <td>1AWQoqb9bSvzTjaLralEkT</td>\n",
              "      <td>spotify:artist:31TPClRtHm23RisEBtV3X7</td>\n",
              "      <td>Rock Your Body</td>\n",
              "      <td>spotify:album:6QPkyl04rXwTGlGlcYaRoW</td>\n",
              "      <td>267266</td>\n",
              "      <td>Justified</td>\n",
              "    </tr>\n",
              "    <tr>\n",
              "      <th>0</th>\n",
              "      <td>Throwbacks</td>\n",
              "      <td>false</td>\n",
              "      <td>0</td>\n",
              "      <td>1493424000</td>\n",
              "      <td>52</td>\n",
              "      <td>47</td>\n",
              "      <td>1</td>\n",
              "      <td>6</td>\n",
              "      <td>11532414</td>\n",
              "      <td>37</td>\n",
              "      <td>NaN</td>\n",
              "      <td>4</td>\n",
              "      <td>Shaggy</td>\n",
              "      <td>1lzr43nnXAijIGYnCT8M8H</td>\n",
              "      <td>spotify:artist:5EvFsr3kj42KNv97ZEnqij</td>\n",
              "      <td>It Wasn't Me</td>\n",
              "      <td>spotify:album:6NmFmPX56pcLBOFMhIiKvF</td>\n",
              "      <td>227600</td>\n",
              "      <td>Hot Shot</td>\n",
              "    </tr>\n",
              "  </tbody>\n",
              "</table>\n",
              "</div>\n",
              "      <button class=\"colab-df-convert\" onclick=\"convertToInteractive('df-d3388d6a-3070-4fa4-b3bb-3ba99c6ab8d1')\"\n",
              "              title=\"Convert this dataframe to an interactive table.\"\n",
              "              style=\"display:none;\">\n",
              "        \n",
              "  <svg xmlns=\"http://www.w3.org/2000/svg\" height=\"24px\"viewBox=\"0 0 24 24\"\n",
              "       width=\"24px\">\n",
              "    <path d=\"M0 0h24v24H0V0z\" fill=\"none\"/>\n",
              "    <path d=\"M18.56 5.44l.94 2.06.94-2.06 2.06-.94-2.06-.94-.94-2.06-.94 2.06-2.06.94zm-11 1L8.5 8.5l.94-2.06 2.06-.94-2.06-.94L8.5 2.5l-.94 2.06-2.06.94zm10 10l.94 2.06.94-2.06 2.06-.94-2.06-.94-.94-2.06-.94 2.06-2.06.94z\"/><path d=\"M17.41 7.96l-1.37-1.37c-.4-.4-.92-.59-1.43-.59-.52 0-1.04.2-1.43.59L10.3 9.45l-7.72 7.72c-.78.78-.78 2.05 0 2.83L4 21.41c.39.39.9.59 1.41.59.51 0 1.02-.2 1.41-.59l7.78-7.78 2.81-2.81c.8-.78.8-2.07 0-2.86zM5.41 20L4 18.59l7.72-7.72 1.47 1.35L5.41 20z\"/>\n",
              "  </svg>\n",
              "      </button>\n",
              "      \n",
              "  <style>\n",
              "    .colab-df-container {\n",
              "      display:flex;\n",
              "      flex-wrap:wrap;\n",
              "      gap: 12px;\n",
              "    }\n",
              "\n",
              "    .colab-df-convert {\n",
              "      background-color: #E8F0FE;\n",
              "      border: none;\n",
              "      border-radius: 50%;\n",
              "      cursor: pointer;\n",
              "      display: none;\n",
              "      fill: #1967D2;\n",
              "      height: 32px;\n",
              "      padding: 0 0 0 0;\n",
              "      width: 32px;\n",
              "    }\n",
              "\n",
              "    .colab-df-convert:hover {\n",
              "      background-color: #E2EBFA;\n",
              "      box-shadow: 0px 1px 2px rgba(60, 64, 67, 0.3), 0px 1px 3px 1px rgba(60, 64, 67, 0.15);\n",
              "      fill: #174EA6;\n",
              "    }\n",
              "\n",
              "    [theme=dark] .colab-df-convert {\n",
              "      background-color: #3B4455;\n",
              "      fill: #D2E3FC;\n",
              "    }\n",
              "\n",
              "    [theme=dark] .colab-df-convert:hover {\n",
              "      background-color: #434B5C;\n",
              "      box-shadow: 0px 1px 3px 1px rgba(0, 0, 0, 0.15);\n",
              "      filter: drop-shadow(0px 1px 2px rgba(0, 0, 0, 0.3));\n",
              "      fill: #FFFFFF;\n",
              "    }\n",
              "  </style>\n",
              "\n",
              "      <script>\n",
              "        const buttonEl =\n",
              "          document.querySelector('#df-d3388d6a-3070-4fa4-b3bb-3ba99c6ab8d1 button.colab-df-convert');\n",
              "        buttonEl.style.display =\n",
              "          google.colab.kernel.accessAllowed ? 'block' : 'none';\n",
              "\n",
              "        async function convertToInteractive(key) {\n",
              "          const element = document.querySelector('#df-d3388d6a-3070-4fa4-b3bb-3ba99c6ab8d1');\n",
              "          const dataTable =\n",
              "            await google.colab.kernel.invokeFunction('convertToInteractive',\n",
              "                                                     [key], {});\n",
              "          if (!dataTable) return;\n",
              "\n",
              "          const docLinkHtml = 'Like what you see? Visit the ' +\n",
              "            '<a target=\"_blank\" href=https://colab.research.google.com/notebooks/data_table.ipynb>data table notebook</a>'\n",
              "            + ' to learn more about interactive tables.';\n",
              "          element.innerHTML = '';\n",
              "          dataTable['output_type'] = 'display_data';\n",
              "          await google.colab.output.renderOutput(dataTable, element);\n",
              "          const docLink = document.createElement('div');\n",
              "          docLink.innerHTML = docLinkHtml;\n",
              "          element.appendChild(docLink);\n",
              "        }\n",
              "      </script>\n",
              "    </div>\n",
              "  </div>\n",
              "  "
            ]
          },
          "metadata": {},
          "execution_count": 6
        }
      ]
    },
    {
      "cell_type": "code",
      "source": [
        "\n",
        "df.tail()"
      ],
      "metadata": {
        "colab": {
          "base_uri": "https://localhost:8080/",
          "height": 409
        },
        "id": "6qoEgUfOuxhw",
        "outputId": "5886d2ea-52b9-4a33-d7a0-6b3ac42c390d"
      },
      "execution_count": null,
      "outputs": [
        {
          "output_type": "execute_result",
          "data": {
            "text/plain": [
              "      name collaborative   pid  modified_at  num_tracks  num_albums  \\\n",
              "999  other         false  3999   1420848000          97          56   \n",
              "999  other         false  3999   1420848000          97          56   \n",
              "999  other         false  3999   1420848000          97          56   \n",
              "999  other         false  3999   1420848000          97          56   \n",
              "999  other         false  3999   1420848000          97          56   \n",
              "\n",
              "     num_followers  num_edits  playlist_duration_ms  num_artists description  \\\n",
              "999              1          9              22548683           17         NaN   \n",
              "999              1          9              22548683           17         NaN   \n",
              "999              1          9              22548683           17         NaN   \n",
              "999              1          9              22548683           17         NaN   \n",
              "999              1          9              22548683           17         NaN   \n",
              "\n",
              "     pos                       artist_name               track_uri  \\\n",
              "999   92                 Alanis Morissette  7c1iI6dwdCpHGYT8DGEfab   \n",
              "999   93                 Alanis Morissette  4l7YIni9bAiGwWMqK5wvgV   \n",
              "999   94                 Alanis Morissette  2LVxvGhl2U5p2ql2ujc6vZ   \n",
              "999   95  Andrew McMahon in the Wilderness  2Kgjd9G808FhUDRhS2gidG   \n",
              "999   96                   Michelle Branch  1u0l8zWpQeMYStFkc2mLD7   \n",
              "\n",
              "                                artist_uri                   track_name  \\\n",
              "999  spotify:artist:6ogn9necmbUdCppmNnGOdi                    Uninvited   \n",
              "999  spotify:artist:6ogn9necmbUdCppmNnGOdi  You Learn - 2015 Remastered   \n",
              "999  spotify:artist:6ogn9necmbUdCppmNnGOdi                  Hands Clean   \n",
              "999  spotify:artist:716ZwtZBmwROBXcFmCzfdM    Cecilia And The Satellite   \n",
              "999  spotify:artist:5rScKX1Sh1U67meeUyTGwk                   Everywhere   \n",
              "\n",
              "                                album_uri  track_duration_ms  \\\n",
              "999  spotify:album:4N7LuZYpstQrtcHIoOKzqg             276200   \n",
              "999  spotify:album:5Ap3F8CxjjsQKZGASDcHNA             239640   \n",
              "999  spotify:album:0kKfmdca8GY7bDWFWtY801             269400   \n",
              "999  spotify:album:1FtH1WWaGL1OvhTMAMw5XI             223879   \n",
              "999  spotify:album:1agL7TUoZXr0Xd4Irievqi             214826   \n",
              "\n",
              "                           album_name  \n",
              "999                    The Collection  \n",
              "999   Jagged Little Pill (Remastered)  \n",
              "999                   Under Rug Swept  \n",
              "999  Andrew McMahon In The Wilderness  \n",
              "999                   The Spirit Room  "
            ],
            "text/html": [
              "\n",
              "  <div id=\"df-a6dc1d36-94d7-48cc-853d-9859e3cd0747\">\n",
              "    <div class=\"colab-df-container\">\n",
              "      <div>\n",
              "<style scoped>\n",
              "    .dataframe tbody tr th:only-of-type {\n",
              "        vertical-align: middle;\n",
              "    }\n",
              "\n",
              "    .dataframe tbody tr th {\n",
              "        vertical-align: top;\n",
              "    }\n",
              "\n",
              "    .dataframe thead th {\n",
              "        text-align: right;\n",
              "    }\n",
              "</style>\n",
              "<table border=\"1\" class=\"dataframe\">\n",
              "  <thead>\n",
              "    <tr style=\"text-align: right;\">\n",
              "      <th></th>\n",
              "      <th>name</th>\n",
              "      <th>collaborative</th>\n",
              "      <th>pid</th>\n",
              "      <th>modified_at</th>\n",
              "      <th>num_tracks</th>\n",
              "      <th>num_albums</th>\n",
              "      <th>num_followers</th>\n",
              "      <th>num_edits</th>\n",
              "      <th>playlist_duration_ms</th>\n",
              "      <th>num_artists</th>\n",
              "      <th>description</th>\n",
              "      <th>pos</th>\n",
              "      <th>artist_name</th>\n",
              "      <th>track_uri</th>\n",
              "      <th>artist_uri</th>\n",
              "      <th>track_name</th>\n",
              "      <th>album_uri</th>\n",
              "      <th>track_duration_ms</th>\n",
              "      <th>album_name</th>\n",
              "    </tr>\n",
              "  </thead>\n",
              "  <tbody>\n",
              "    <tr>\n",
              "      <th>999</th>\n",
              "      <td>other</td>\n",
              "      <td>false</td>\n",
              "      <td>3999</td>\n",
              "      <td>1420848000</td>\n",
              "      <td>97</td>\n",
              "      <td>56</td>\n",
              "      <td>1</td>\n",
              "      <td>9</td>\n",
              "      <td>22548683</td>\n",
              "      <td>17</td>\n",
              "      <td>NaN</td>\n",
              "      <td>92</td>\n",
              "      <td>Alanis Morissette</td>\n",
              "      <td>7c1iI6dwdCpHGYT8DGEfab</td>\n",
              "      <td>spotify:artist:6ogn9necmbUdCppmNnGOdi</td>\n",
              "      <td>Uninvited</td>\n",
              "      <td>spotify:album:4N7LuZYpstQrtcHIoOKzqg</td>\n",
              "      <td>276200</td>\n",
              "      <td>The Collection</td>\n",
              "    </tr>\n",
              "    <tr>\n",
              "      <th>999</th>\n",
              "      <td>other</td>\n",
              "      <td>false</td>\n",
              "      <td>3999</td>\n",
              "      <td>1420848000</td>\n",
              "      <td>97</td>\n",
              "      <td>56</td>\n",
              "      <td>1</td>\n",
              "      <td>9</td>\n",
              "      <td>22548683</td>\n",
              "      <td>17</td>\n",
              "      <td>NaN</td>\n",
              "      <td>93</td>\n",
              "      <td>Alanis Morissette</td>\n",
              "      <td>4l7YIni9bAiGwWMqK5wvgV</td>\n",
              "      <td>spotify:artist:6ogn9necmbUdCppmNnGOdi</td>\n",
              "      <td>You Learn - 2015 Remastered</td>\n",
              "      <td>spotify:album:5Ap3F8CxjjsQKZGASDcHNA</td>\n",
              "      <td>239640</td>\n",
              "      <td>Jagged Little Pill (Remastered)</td>\n",
              "    </tr>\n",
              "    <tr>\n",
              "      <th>999</th>\n",
              "      <td>other</td>\n",
              "      <td>false</td>\n",
              "      <td>3999</td>\n",
              "      <td>1420848000</td>\n",
              "      <td>97</td>\n",
              "      <td>56</td>\n",
              "      <td>1</td>\n",
              "      <td>9</td>\n",
              "      <td>22548683</td>\n",
              "      <td>17</td>\n",
              "      <td>NaN</td>\n",
              "      <td>94</td>\n",
              "      <td>Alanis Morissette</td>\n",
              "      <td>2LVxvGhl2U5p2ql2ujc6vZ</td>\n",
              "      <td>spotify:artist:6ogn9necmbUdCppmNnGOdi</td>\n",
              "      <td>Hands Clean</td>\n",
              "      <td>spotify:album:0kKfmdca8GY7bDWFWtY801</td>\n",
              "      <td>269400</td>\n",
              "      <td>Under Rug Swept</td>\n",
              "    </tr>\n",
              "    <tr>\n",
              "      <th>999</th>\n",
              "      <td>other</td>\n",
              "      <td>false</td>\n",
              "      <td>3999</td>\n",
              "      <td>1420848000</td>\n",
              "      <td>97</td>\n",
              "      <td>56</td>\n",
              "      <td>1</td>\n",
              "      <td>9</td>\n",
              "      <td>22548683</td>\n",
              "      <td>17</td>\n",
              "      <td>NaN</td>\n",
              "      <td>95</td>\n",
              "      <td>Andrew McMahon in the Wilderness</td>\n",
              "      <td>2Kgjd9G808FhUDRhS2gidG</td>\n",
              "      <td>spotify:artist:716ZwtZBmwROBXcFmCzfdM</td>\n",
              "      <td>Cecilia And The Satellite</td>\n",
              "      <td>spotify:album:1FtH1WWaGL1OvhTMAMw5XI</td>\n",
              "      <td>223879</td>\n",
              "      <td>Andrew McMahon In The Wilderness</td>\n",
              "    </tr>\n",
              "    <tr>\n",
              "      <th>999</th>\n",
              "      <td>other</td>\n",
              "      <td>false</td>\n",
              "      <td>3999</td>\n",
              "      <td>1420848000</td>\n",
              "      <td>97</td>\n",
              "      <td>56</td>\n",
              "      <td>1</td>\n",
              "      <td>9</td>\n",
              "      <td>22548683</td>\n",
              "      <td>17</td>\n",
              "      <td>NaN</td>\n",
              "      <td>96</td>\n",
              "      <td>Michelle Branch</td>\n",
              "      <td>1u0l8zWpQeMYStFkc2mLD7</td>\n",
              "      <td>spotify:artist:5rScKX1Sh1U67meeUyTGwk</td>\n",
              "      <td>Everywhere</td>\n",
              "      <td>spotify:album:1agL7TUoZXr0Xd4Irievqi</td>\n",
              "      <td>214826</td>\n",
              "      <td>The Spirit Room</td>\n",
              "    </tr>\n",
              "  </tbody>\n",
              "</table>\n",
              "</div>\n",
              "      <button class=\"colab-df-convert\" onclick=\"convertToInteractive('df-a6dc1d36-94d7-48cc-853d-9859e3cd0747')\"\n",
              "              title=\"Convert this dataframe to an interactive table.\"\n",
              "              style=\"display:none;\">\n",
              "        \n",
              "  <svg xmlns=\"http://www.w3.org/2000/svg\" height=\"24px\"viewBox=\"0 0 24 24\"\n",
              "       width=\"24px\">\n",
              "    <path d=\"M0 0h24v24H0V0z\" fill=\"none\"/>\n",
              "    <path d=\"M18.56 5.44l.94 2.06.94-2.06 2.06-.94-2.06-.94-.94-2.06-.94 2.06-2.06.94zm-11 1L8.5 8.5l.94-2.06 2.06-.94-2.06-.94L8.5 2.5l-.94 2.06-2.06.94zm10 10l.94 2.06.94-2.06 2.06-.94-2.06-.94-.94-2.06-.94 2.06-2.06.94z\"/><path d=\"M17.41 7.96l-1.37-1.37c-.4-.4-.92-.59-1.43-.59-.52 0-1.04.2-1.43.59L10.3 9.45l-7.72 7.72c-.78.78-.78 2.05 0 2.83L4 21.41c.39.39.9.59 1.41.59.51 0 1.02-.2 1.41-.59l7.78-7.78 2.81-2.81c.8-.78.8-2.07 0-2.86zM5.41 20L4 18.59l7.72-7.72 1.47 1.35L5.41 20z\"/>\n",
              "  </svg>\n",
              "      </button>\n",
              "      \n",
              "  <style>\n",
              "    .colab-df-container {\n",
              "      display:flex;\n",
              "      flex-wrap:wrap;\n",
              "      gap: 12px;\n",
              "    }\n",
              "\n",
              "    .colab-df-convert {\n",
              "      background-color: #E8F0FE;\n",
              "      border: none;\n",
              "      border-radius: 50%;\n",
              "      cursor: pointer;\n",
              "      display: none;\n",
              "      fill: #1967D2;\n",
              "      height: 32px;\n",
              "      padding: 0 0 0 0;\n",
              "      width: 32px;\n",
              "    }\n",
              "\n",
              "    .colab-df-convert:hover {\n",
              "      background-color: #E2EBFA;\n",
              "      box-shadow: 0px 1px 2px rgba(60, 64, 67, 0.3), 0px 1px 3px 1px rgba(60, 64, 67, 0.15);\n",
              "      fill: #174EA6;\n",
              "    }\n",
              "\n",
              "    [theme=dark] .colab-df-convert {\n",
              "      background-color: #3B4455;\n",
              "      fill: #D2E3FC;\n",
              "    }\n",
              "\n",
              "    [theme=dark] .colab-df-convert:hover {\n",
              "      background-color: #434B5C;\n",
              "      box-shadow: 0px 1px 3px 1px rgba(0, 0, 0, 0.15);\n",
              "      filter: drop-shadow(0px 1px 2px rgba(0, 0, 0, 0.3));\n",
              "      fill: #FFFFFF;\n",
              "    }\n",
              "  </style>\n",
              "\n",
              "      <script>\n",
              "        const buttonEl =\n",
              "          document.querySelector('#df-a6dc1d36-94d7-48cc-853d-9859e3cd0747 button.colab-df-convert');\n",
              "        buttonEl.style.display =\n",
              "          google.colab.kernel.accessAllowed ? 'block' : 'none';\n",
              "\n",
              "        async function convertToInteractive(key) {\n",
              "          const element = document.querySelector('#df-a6dc1d36-94d7-48cc-853d-9859e3cd0747');\n",
              "          const dataTable =\n",
              "            await google.colab.kernel.invokeFunction('convertToInteractive',\n",
              "                                                     [key], {});\n",
              "          if (!dataTable) return;\n",
              "\n",
              "          const docLinkHtml = 'Like what you see? Visit the ' +\n",
              "            '<a target=\"_blank\" href=https://colab.research.google.com/notebooks/data_table.ipynb>data table notebook</a>'\n",
              "            + ' to learn more about interactive tables.';\n",
              "          element.innerHTML = '';\n",
              "          dataTable['output_type'] = 'display_data';\n",
              "          await google.colab.output.renderOutput(dataTable, element);\n",
              "          const docLink = document.createElement('div');\n",
              "          docLink.innerHTML = docLinkHtml;\n",
              "          element.appendChild(docLink);\n",
              "        }\n",
              "      </script>\n",
              "    </div>\n",
              "  </div>\n",
              "  "
            ]
          },
          "metadata": {},
          "execution_count": 7
        }
      ]
    },
    {
      "cell_type": "code",
      "source": [
        "! pip install spotipy"
      ],
      "metadata": {
        "colab": {
          "base_uri": "https://localhost:8080/"
        },
        "id": "PDXmCMreuLuj",
        "outputId": "3494f08a-1cb7-4dbe-9649-b490f0108b29"
      },
      "execution_count": null,
      "outputs": [
        {
          "output_type": "stream",
          "name": "stdout",
          "text": [
            "Looking in indexes: https://pypi.org/simple, https://us-python.pkg.dev/colab-wheels/public/simple/\n",
            "Collecting spotipy\n",
            "  Downloading spotipy-2.20.0-py3-none-any.whl (27 kB)\n",
            "Collecting requests>=2.25.0\n",
            "  Downloading requests-2.28.1-py3-none-any.whl (62 kB)\n",
            "\u001b[K     |████████████████████████████████| 62 kB 1.5 MB/s \n",
            "\u001b[?25hCollecting redis>=3.5.3\n",
            "  Downloading redis-4.3.4-py3-none-any.whl (246 kB)\n",
            "\u001b[K     |████████████████████████████████| 246 kB 59.3 MB/s \n",
            "\u001b[?25hCollecting urllib3>=1.26.0\n",
            "  Downloading urllib3-1.26.12-py2.py3-none-any.whl (140 kB)\n",
            "\u001b[K     |████████████████████████████████| 140 kB 70.3 MB/s \n",
            "\u001b[?25hRequirement already satisfied: six>=1.15.0 in /usr/local/lib/python3.7/dist-packages (from spotipy) (1.15.0)\n",
            "Requirement already satisfied: typing-extensions in /usr/local/lib/python3.7/dist-packages (from redis>=3.5.3->spotipy) (4.1.1)\n",
            "Requirement already satisfied: importlib-metadata>=1.0 in /usr/local/lib/python3.7/dist-packages (from redis>=3.5.3->spotipy) (4.12.0)\n",
            "Requirement already satisfied: async-timeout>=4.0.2 in /usr/local/lib/python3.7/dist-packages (from redis>=3.5.3->spotipy) (4.0.2)\n",
            "Collecting deprecated>=1.2.3\n",
            "  Downloading Deprecated-1.2.13-py2.py3-none-any.whl (9.6 kB)\n",
            "Requirement already satisfied: packaging>=20.4 in /usr/local/lib/python3.7/dist-packages (from redis>=3.5.3->spotipy) (21.3)\n",
            "Requirement already satisfied: wrapt<2,>=1.10 in /usr/local/lib/python3.7/dist-packages (from deprecated>=1.2.3->redis>=3.5.3->spotipy) (1.14.1)\n",
            "Requirement already satisfied: zipp>=0.5 in /usr/local/lib/python3.7/dist-packages (from importlib-metadata>=1.0->redis>=3.5.3->spotipy) (3.8.1)\n",
            "Requirement already satisfied: pyparsing!=3.0.5,>=2.0.2 in /usr/local/lib/python3.7/dist-packages (from packaging>=20.4->redis>=3.5.3->spotipy) (3.0.9)\n",
            "Requirement already satisfied: charset-normalizer<3,>=2 in /usr/local/lib/python3.7/dist-packages (from requests>=2.25.0->spotipy) (2.1.1)\n",
            "Requirement already satisfied: certifi>=2017.4.17 in /usr/local/lib/python3.7/dist-packages (from requests>=2.25.0->spotipy) (2022.6.15)\n",
            "Requirement already satisfied: idna<4,>=2.5 in /usr/local/lib/python3.7/dist-packages (from requests>=2.25.0->spotipy) (2.10)\n",
            "Installing collected packages: urllib3, deprecated, requests, redis, spotipy\n",
            "  Attempting uninstall: urllib3\n",
            "    Found existing installation: urllib3 1.24.3\n",
            "    Uninstalling urllib3-1.24.3:\n",
            "      Successfully uninstalled urllib3-1.24.3\n",
            "  Attempting uninstall: requests\n",
            "    Found existing installation: requests 2.23.0\n",
            "    Uninstalling requests-2.23.0:\n",
            "      Successfully uninstalled requests-2.23.0\n",
            "Successfully installed deprecated-1.2.13 redis-4.3.4 requests-2.28.1 spotipy-2.20.0 urllib3-1.26.12\n"
          ]
        }
      ]
    },
    {
      "cell_type": "code",
      "source": [
        "# imports for API\n",
        "import spotipy # Web App API\n",
        "import spotipy.oauth2 as oauth2\n",
        "from spotipy.oauth2 import SpotifyOAuth\n",
        "from spotipy.oauth2 import SpotifyClientCredentials"
      ],
      "metadata": {
        "id": "Nlayhx9X736V"
      },
      "execution_count": null,
      "outputs": []
    },
    {
      "cell_type": "code",
      "source": [
        "# client key = fbe8496c96c94607994ce558ef17ac01\n",
        "# secret key = b185f8ccd1104d06a174aa42ea9420fa\n",
        "auth_manger = SpotifyClientCredentials(client_id= '2d94d5f70296490aa807220f93b142fb', client_secret= '5882d3134d2b4a448c0547618e6572e4')\n"
      ],
      "metadata": {
        "id": "4klJDOK4BqMJ"
      },
      "execution_count": null,
      "outputs": []
    },
    {
      "cell_type": "code",
      "source": [
        "# Artist info\n",
        "sp = spotipy.Spotify(auth_manager=auth_manger) # API\n",
        "artist_info = 'https://open.spotify.com/artist/26dSoYclwsYLMAKD3tpOr4?si=3rSxDEx7SIGPdo6Q7jOv6Q'\n",
        "artist = sp.artist(artist_info)\n",
        "artist"
      ],
      "metadata": {
        "colab": {
          "base_uri": "https://localhost:8080/"
        },
        "id": "vZwJTutJF_Q1",
        "outputId": "87ab3757-3a35-4118-8df6-350517694f7d"
      },
      "execution_count": null,
      "outputs": [
        {
          "output_type": "execute_result",
          "data": {
            "text/plain": [
              "{'external_urls': {'spotify': 'https://open.spotify.com/artist/26dSoYclwsYLMAKD3tpOr4'},\n",
              " 'followers': {'href': None, 'total': 11271496},\n",
              " 'genres': ['dance pop', 'pop', 'post-teen pop'],\n",
              " 'href': 'https://api.spotify.com/v1/artists/26dSoYclwsYLMAKD3tpOr4',\n",
              " 'id': '26dSoYclwsYLMAKD3tpOr4',\n",
              " 'images': [{'height': 640,\n",
              "   'url': 'https://i.scdn.co/image/ab6761610000e5eb4e7e6ded87a4e0f65b5afcec',\n",
              "   'width': 640},\n",
              "  {'height': 320,\n",
              "   'url': 'https://i.scdn.co/image/ab676161000051744e7e6ded87a4e0f65b5afcec',\n",
              "   'width': 320},\n",
              "  {'height': 160,\n",
              "   'url': 'https://i.scdn.co/image/ab6761610000f1784e7e6ded87a4e0f65b5afcec',\n",
              "   'width': 160}],\n",
              " 'name': 'Britney Spears',\n",
              " 'popularity': 81,\n",
              " 'type': 'artist',\n",
              " 'uri': 'spotify:artist:26dSoYclwsYLMAKD3tpOr4'}"
            ]
          },
          "metadata": {},
          "execution_count": 12
        }
      ]
    },
    {
      "cell_type": "code",
      "source": [
        "\n",
        "# All albums of an artist\n",
        "\n",
        "# from spotipy import Spotify as spotify\n",
        "results = sp.artist_albums(artist_info, album_type='album') # return first album of this artist and pointer to next album\n",
        "albums = results['items'] #array of tracks in first album\n",
        "print('number of tracks in first album is ', len(albums)) # number of tracks in album\n",
        "while results['next']:\n",
        "    results = spotify.next(results) # to access next album\n",
        "    albums.extend(results['items'])\n",
        "\n",
        "for album in albums:\n",
        "    print(album['name'])"
      ],
      "metadata": {
        "colab": {
          "base_uri": "https://localhost:8080/"
        },
        "id": "vv7ukO4DDnGk",
        "outputId": "8348b7ae-e661-45c3-9a46-f69444923e60"
      },
      "execution_count": null,
      "outputs": [
        {
          "output_type": "stream",
          "name": "stdout",
          "text": [
            "number of tracks in first album is  15\n",
            "Glory (Deluxe)\n",
            "Glory (Deluxe)\n",
            "Glory : Japan Tour Edition\n",
            "Glory (Japan Deluxe Version)\n",
            "Glory (Deluxe Version)\n",
            "Glory (Deluxe Version)\n",
            "Britney Jean (Deluxe Version)\n",
            "Britney Jean (Deluxe Version)\n",
            "Femme Fatale (Deluxe Version)\n",
            "Circus (Deluxe Version)\n",
            "Blackout\n",
            "In The Zone\n",
            "Britney (Digital Deluxe Version)\n",
            "Oops!... I Did It Again\n",
            "...Baby One More Time (Digital Deluxe Version)\n"
          ]
        }
      ]
    },
    {
      "cell_type": "markdown",
      "source": [
        "## Audio Analysis of tracks"
      ],
      "metadata": {
        "id": "3WazaHuVJzY1"
      }
    },
    {
      "cell_type": "code",
      "source": [
        "# All country codes\n",
        "print(sp.country_codes )"
      ],
      "metadata": {
        "colab": {
          "base_uri": "https://localhost:8080/"
        },
        "id": "EsHxk3X1F7vO",
        "outputId": "2430322e-c726-45a7-d783-c60c7bd2a971"
      },
      "execution_count": null,
      "outputs": [
        {
          "output_type": "stream",
          "name": "stdout",
          "text": [
            "['AD', 'AR', 'AU', 'AT', 'BE', 'BO', 'BR', 'BG', 'CA', 'CL', 'CO', 'CR', 'CY', 'CZ', 'DK', 'DO', 'EC', 'SV', 'EE', 'FI', 'FR', 'DE', 'GR', 'GT', 'HN', 'HK', 'HU', 'IS', 'ID', 'IE', 'IT', 'JP', 'LV', 'LI', 'LT', 'LU', 'MY', 'MT', 'MX', 'MC', 'NL', 'NZ', 'NI', 'NO', 'PA', 'PY', 'PE', 'PH', 'PL', 'PT', 'SG', 'ES', 'SK', 'SE', 'CH', 'TW', 'TR', 'GB', 'US', 'UY']\n"
          ]
        }
      ]
    },
    {
      "cell_type": "code",
      "source": [
        "# Top 5 Tracks for an Artist\n",
        "results = sp.artist_top_tracks(artist_info, country='US')\n",
        "\n",
        "for track in results['tracks'][:5]: #0->4\n",
        "    print('Track     :', track['name'])\n",
        "    print('Audio     :', track['preview_url'])\n",
        "    print('Cover Art :', track['album']['images'][0]['url'])\n",
        "    print()"
      ],
      "metadata": {
        "colab": {
          "base_uri": "https://localhost:8080/"
        },
        "id": "qBDSzWjRIRqX",
        "outputId": "da8272ca-72c6-4c1d-bcfe-aa7a005fc3ff"
      },
      "execution_count": null,
      "outputs": [
        {
          "output_type": "stream",
          "name": "stdout",
          "text": [
            "Track     : Hold Me Closer\n",
            "Audio     : None\n",
            "Cover Art : https://i.scdn.co/image/ab67616d0000b273775800e93752168c8004b59f\n",
            "\n",
            "Track     : Toxic\n",
            "Audio     : https://p.scdn.co/mp3-preview/7e3699a5a8b20b5847234627839a1c68bfaf5fb4?cid=2d94d5f70296490aa807220f93b142fb\n",
            "Cover Art : https://i.scdn.co/image/ab67616d0000b273efc6988972cb04105f002cd4\n",
            "\n",
            "Track     : Gimme More\n",
            "Audio     : https://p.scdn.co/mp3-preview/759be80fb1378fd49f6c7ad48c3513c05c53a7d7?cid=2d94d5f70296490aa807220f93b142fb\n",
            "Cover Art : https://i.scdn.co/image/ab67616d0000b273ca10fae7d292c52f7e8b11ca\n",
            "\n",
            "Track     : ...Baby One More Time\n",
            "Audio     : https://p.scdn.co/mp3-preview/fd353f288358cb29fa0628254152ec6aab2ee99c?cid=2d94d5f70296490aa807220f93b142fb\n",
            "Cover Art : https://i.scdn.co/image/ab67616d0000b2738e49866860c25afffe2f1a02\n",
            "\n",
            "Track     : Oops!...I Did It Again\n",
            "Audio     : https://p.scdn.co/mp3-preview/52bb73e57b05641dd4ce1f444c135a1b5f145b66?cid=2d94d5f70296490aa807220f93b142fb\n",
            "Cover Art : https://i.scdn.co/image/ab67616d0000b2732aa20611c7fb964a74ab01a6\n",
            "\n"
          ]
        }
      ]
    },
    {
      "cell_type": "code",
      "source": [
        "list(df['track_uri'][0])[0]"
      ],
      "metadata": {
        "colab": {
          "base_uri": "https://localhost:8080/",
          "height": 36
        },
        "id": "LCCh9wYDIVjb",
        "outputId": "64dcf6bb-aa38-41e0-e538-af155d962ed4"
      },
      "execution_count": null,
      "outputs": [
        {
          "output_type": "execute_result",
          "data": {
            "text/plain": [
              "'0UaMYEvWZi0ZqiDOoHU3YI'"
            ],
            "application/vnd.google.colaboratory.intrinsic+json": {
              "type": "string"
            }
          },
          "metadata": {},
          "execution_count": 16
        }
      ]
    },
    {
      "cell_type": "code",
      "source": [
        "# Track Features\n",
        "sp.audio_features(list(df['track_uri'][0])[0])"
      ],
      "metadata": {
        "colab": {
          "base_uri": "https://localhost:8080/"
        },
        "id": "GDVdp8TtIaLn",
        "outputId": "03ac8c66-473d-4f83-cc97-e269c98562e4"
      },
      "execution_count": null,
      "outputs": [
        {
          "output_type": "execute_result",
          "data": {
            "text/plain": [
              "[{'danceability': 0.904,\n",
              "  'energy': 0.813,\n",
              "  'key': 4,\n",
              "  'loudness': -7.105,\n",
              "  'mode': 0,\n",
              "  'speechiness': 0.121,\n",
              "  'acousticness': 0.0311,\n",
              "  'instrumentalness': 0.00697,\n",
              "  'liveness': 0.0471,\n",
              "  'valence': 0.81,\n",
              "  'tempo': 125.461,\n",
              "  'type': 'audio_features',\n",
              "  'id': '0UaMYEvWZi0ZqiDOoHU3YI',\n",
              "  'uri': 'spotify:track:0UaMYEvWZi0ZqiDOoHU3YI',\n",
              "  'track_href': 'https://api.spotify.com/v1/tracks/0UaMYEvWZi0ZqiDOoHU3YI',\n",
              "  'analysis_url': 'https://api.spotify.com/v1/audio-analysis/0UaMYEvWZi0ZqiDOoHU3YI',\n",
              "  'duration_ms': 226864,\n",
              "  'time_signature': 4}]"
            ]
          },
          "metadata": {},
          "execution_count": 17
        }
      ]
    },
    {
      "cell_type": "code",
      "source": [
        "track_info = sp.track('0UaMYEvWZi0ZqiDOoHU3YI') # Track info\n",
        "track_features = sp.audio_features('0UaMYEvWZi0ZqiDOoHU3YI') # Track Features\n",
        "\n",
        "name = track_info['name'] #track name\n",
        "album = track_info['album']['name'] #album details\n",
        "artist = track_info['album']['artists'][0]['name']\n",
        "release_date = track_info['album']['release_date']\n",
        "length = track_info['duration_ms']\n",
        "popularity = track_info['popularity']\n",
        "\n",
        "acousticness = track_features[0]['acousticness']\n",
        "danceability = track_features[0]['danceability']\n",
        "energy = track_features[0]['energy']\n",
        "instrumentalness = track_features[0]['instrumentalness']\n",
        "liveness = track_features[0]['liveness']\n",
        "loudness = track_features[0]['loudness']\n",
        "speechiness = track_features[0]['speechiness']\n",
        "tempo = track_features[0]['tempo']\n",
        "time_signature = track_features[0]['time_signature']\n",
        "\n",
        "track = [name,\n",
        "album,\n",
        "artist,\n",
        "release_date,\n",
        "length,\n",
        "popularity,\n",
        "acousticness,\n",
        "danceability,\n",
        "energy,\n",
        "instrumentalness,\n",
        "liveness,\n",
        "loudness,\n",
        "speechiness,\n",
        "tempo,\n",
        "time_signature]\n",
        "\n",
        "track"
      ],
      "metadata": {
        "colab": {
          "base_uri": "https://localhost:8080/"
        },
        "id": "kT8E2kgEIew6",
        "outputId": "662ed49d-b1e8-4d87-b8db-0099bfe76d09"
      },
      "execution_count": null,
      "outputs": [
        {
          "output_type": "execute_result",
          "data": {
            "text/plain": [
              "['Lose Control (feat. Ciara & Fat Man Scoop)',\n",
              " 'The Cookbook',\n",
              " 'Missy Elliott',\n",
              " '2005-07-04',\n",
              " 226863,\n",
              " 67,\n",
              " 0.0311,\n",
              " 0.904,\n",
              " 0.813,\n",
              " 0.00697,\n",
              " 0.0471,\n",
              " -7.105,\n",
              " 0.121,\n",
              " 125.461,\n",
              " 4]"
            ]
          },
          "metadata": {},
          "execution_count": 18
        }
      ]
    },
    {
      "cell_type": "code",
      "source": [
        "one_track = pd.DataFrame(track).T.values.tolist()\n",
        "columns = ['Name', 'Album', 'Artist', 'Release_date', 'Length', 'Popularity', 'Acousticness', 'Danceability', 'Energy', 'Instrumentalness', 'Liveness', 'Loudness', 'Speechiness', 'Tempo', 'Time_signature']\n",
        "df_final = pd.DataFrame(one_track, columns=columns)\n",
        "df_final"
      ],
      "metadata": {
        "colab": {
          "base_uri": "https://localhost:8080/",
          "height": 142
        },
        "id": "Yduf0ydNIj7G",
        "outputId": "875d039e-f6d5-4f90-d72d-cd28439a84aa"
      },
      "execution_count": null,
      "outputs": [
        {
          "output_type": "execute_result",
          "data": {
            "text/plain": [
              "                                         Name         Album         Artist  \\\n",
              "0  Lose Control (feat. Ciara & Fat Man Scoop)  The Cookbook  Missy Elliott   \n",
              "\n",
              "  Release_date  Length  Popularity  Acousticness  Danceability  Energy  \\\n",
              "0   2005-07-04  226863          67        0.0311         0.904   0.813   \n",
              "\n",
              "   Instrumentalness  Liveness  Loudness  Speechiness    Tempo  Time_signature  \n",
              "0           0.00697    0.0471    -7.105        0.121  125.461               4  "
            ],
            "text/html": [
              "\n",
              "  <div id=\"df-edbf31b7-ff43-4bd1-8954-280757cbfb9e\">\n",
              "    <div class=\"colab-df-container\">\n",
              "      <div>\n",
              "<style scoped>\n",
              "    .dataframe tbody tr th:only-of-type {\n",
              "        vertical-align: middle;\n",
              "    }\n",
              "\n",
              "    .dataframe tbody tr th {\n",
              "        vertical-align: top;\n",
              "    }\n",
              "\n",
              "    .dataframe thead th {\n",
              "        text-align: right;\n",
              "    }\n",
              "</style>\n",
              "<table border=\"1\" class=\"dataframe\">\n",
              "  <thead>\n",
              "    <tr style=\"text-align: right;\">\n",
              "      <th></th>\n",
              "      <th>Name</th>\n",
              "      <th>Album</th>\n",
              "      <th>Artist</th>\n",
              "      <th>Release_date</th>\n",
              "      <th>Length</th>\n",
              "      <th>Popularity</th>\n",
              "      <th>Acousticness</th>\n",
              "      <th>Danceability</th>\n",
              "      <th>Energy</th>\n",
              "      <th>Instrumentalness</th>\n",
              "      <th>Liveness</th>\n",
              "      <th>Loudness</th>\n",
              "      <th>Speechiness</th>\n",
              "      <th>Tempo</th>\n",
              "      <th>Time_signature</th>\n",
              "    </tr>\n",
              "  </thead>\n",
              "  <tbody>\n",
              "    <tr>\n",
              "      <th>0</th>\n",
              "      <td>Lose Control (feat. Ciara &amp; Fat Man Scoop)</td>\n",
              "      <td>The Cookbook</td>\n",
              "      <td>Missy Elliott</td>\n",
              "      <td>2005-07-04</td>\n",
              "      <td>226863</td>\n",
              "      <td>67</td>\n",
              "      <td>0.0311</td>\n",
              "      <td>0.904</td>\n",
              "      <td>0.813</td>\n",
              "      <td>0.00697</td>\n",
              "      <td>0.0471</td>\n",
              "      <td>-7.105</td>\n",
              "      <td>0.121</td>\n",
              "      <td>125.461</td>\n",
              "      <td>4</td>\n",
              "    </tr>\n",
              "  </tbody>\n",
              "</table>\n",
              "</div>\n",
              "      <button class=\"colab-df-convert\" onclick=\"convertToInteractive('df-edbf31b7-ff43-4bd1-8954-280757cbfb9e')\"\n",
              "              title=\"Convert this dataframe to an interactive table.\"\n",
              "              style=\"display:none;\">\n",
              "        \n",
              "  <svg xmlns=\"http://www.w3.org/2000/svg\" height=\"24px\"viewBox=\"0 0 24 24\"\n",
              "       width=\"24px\">\n",
              "    <path d=\"M0 0h24v24H0V0z\" fill=\"none\"/>\n",
              "    <path d=\"M18.56 5.44l.94 2.06.94-2.06 2.06-.94-2.06-.94-.94-2.06-.94 2.06-2.06.94zm-11 1L8.5 8.5l.94-2.06 2.06-.94-2.06-.94L8.5 2.5l-.94 2.06-2.06.94zm10 10l.94 2.06.94-2.06 2.06-.94-2.06-.94-.94-2.06-.94 2.06-2.06.94z\"/><path d=\"M17.41 7.96l-1.37-1.37c-.4-.4-.92-.59-1.43-.59-.52 0-1.04.2-1.43.59L10.3 9.45l-7.72 7.72c-.78.78-.78 2.05 0 2.83L4 21.41c.39.39.9.59 1.41.59.51 0 1.02-.2 1.41-.59l7.78-7.78 2.81-2.81c.8-.78.8-2.07 0-2.86zM5.41 20L4 18.59l7.72-7.72 1.47 1.35L5.41 20z\"/>\n",
              "  </svg>\n",
              "      </button>\n",
              "      \n",
              "  <style>\n",
              "    .colab-df-container {\n",
              "      display:flex;\n",
              "      flex-wrap:wrap;\n",
              "      gap: 12px;\n",
              "    }\n",
              "\n",
              "    .colab-df-convert {\n",
              "      background-color: #E8F0FE;\n",
              "      border: none;\n",
              "      border-radius: 50%;\n",
              "      cursor: pointer;\n",
              "      display: none;\n",
              "      fill: #1967D2;\n",
              "      height: 32px;\n",
              "      padding: 0 0 0 0;\n",
              "      width: 32px;\n",
              "    }\n",
              "\n",
              "    .colab-df-convert:hover {\n",
              "      background-color: #E2EBFA;\n",
              "      box-shadow: 0px 1px 2px rgba(60, 64, 67, 0.3), 0px 1px 3px 1px rgba(60, 64, 67, 0.15);\n",
              "      fill: #174EA6;\n",
              "    }\n",
              "\n",
              "    [theme=dark] .colab-df-convert {\n",
              "      background-color: #3B4455;\n",
              "      fill: #D2E3FC;\n",
              "    }\n",
              "\n",
              "    [theme=dark] .colab-df-convert:hover {\n",
              "      background-color: #434B5C;\n",
              "      box-shadow: 0px 1px 3px 1px rgba(0, 0, 0, 0.15);\n",
              "      filter: drop-shadow(0px 1px 2px rgba(0, 0, 0, 0.3));\n",
              "      fill: #FFFFFF;\n",
              "    }\n",
              "  </style>\n",
              "\n",
              "      <script>\n",
              "        const buttonEl =\n",
              "          document.querySelector('#df-edbf31b7-ff43-4bd1-8954-280757cbfb9e button.colab-df-convert');\n",
              "        buttonEl.style.display =\n",
              "          google.colab.kernel.accessAllowed ? 'block' : 'none';\n",
              "\n",
              "        async function convertToInteractive(key) {\n",
              "          const element = document.querySelector('#df-edbf31b7-ff43-4bd1-8954-280757cbfb9e');\n",
              "          const dataTable =\n",
              "            await google.colab.kernel.invokeFunction('convertToInteractive',\n",
              "                                                     [key], {});\n",
              "          if (!dataTable) return;\n",
              "\n",
              "          const docLinkHtml = 'Like what you see? Visit the ' +\n",
              "            '<a target=\"_blank\" href=https://colab.research.google.com/notebooks/data_table.ipynb>data table notebook</a>'\n",
              "            + ' to learn more about interactive tables.';\n",
              "          element.innerHTML = '';\n",
              "          dataTable['output_type'] = 'display_data';\n",
              "          await google.colab.output.renderOutput(dataTable, element);\n",
              "          const docLink = document.createElement('div');\n",
              "          docLink.innerHTML = docLinkHtml;\n",
              "          element.appendChild(docLink);\n",
              "        }\n",
              "      </script>\n",
              "    </div>\n",
              "  </div>\n",
              "  "
            ]
          },
          "metadata": {},
          "execution_count": 19
        }
      ]
    },
    {
      "cell_type": "markdown",
      "source": [
        "## 1> chose a playlist that contains tracks and get their ids"
      ],
      "metadata": {
        "id": "6S2f0IlbJ8hc"
      }
    },
    {
      "cell_type": "code",
      "source": [
        "def getTrackIDs(user, playlist_id): # get all track ids of specific playlist\n",
        "    track_ids = []\n",
        "    playlist = sp.user_playlist(user, playlist_id)\n",
        "    for item in playlist['tracks']['items']:\n",
        "        track = item['track']\n",
        "        track_ids.append(track['id'])\n",
        "    return track_ids"
      ],
      "metadata": {
        "id": "X_78GAEzIqtV"
      },
      "execution_count": null,
      "outputs": []
    },
    {
      "cell_type": "code",
      "source": [
        "track_ids = getTrackIDs('spotify', '0P9T607jwhVujYSs14oXNJ') # 0P9T607jwhVujYSs14oXNJ is sao playlist\n",
        "print(len(track_ids))\n",
        "print(track_ids)"
      ],
      "metadata": {
        "colab": {
          "base_uri": "https://localhost:8080/"
        },
        "id": "v0e6J1cwIx1h",
        "outputId": "273d4aab-8041-4e47-eff1-f74bb8ac6ef3"
      },
      "execution_count": null,
      "outputs": [
        {
          "output_type": "stream",
          "name": "stdout",
          "text": [
            "9\n",
            "['3mScGCzxiXA9OaHdBeuk7O', '4P72GmIjFjP90tIKhHeLQz', '6vANutLeXwwAegl7PUWCGw', '4Tb3EXAUbgC7YUyJQORL9G', '3SeTLr7u3ktxAnudJ5UpbD', '3cxWQQAN1WDxPisYoG6hA4', '2OBQ5aQ1KBsjuxJvThlBl6', '5Z15dtbuDwcug9PDA7g0v4', '5PEUBHCoNu8c1FC6sVdaK2']\n"
          ]
        }
      ]
    },
    {
      "cell_type": "code",
      "source": [
        "def getTrackFeatures(id):\n",
        "    track_info = sp.track(id) # Track info\n",
        "    track_features = sp.audio_features(id) # Track Features\n",
        "\n",
        "    name = track_info['name'] #track name\n",
        "    album = track_info['album']['name'] #album details\n",
        "    artist = track_info['album']['artists'][0]['name']\n",
        "    release_date = track_info['album']['release_date']\n",
        "    length = track_info['duration_ms']\n",
        "    popularity = track_info['popularity']\n",
        "\n",
        "    acousticness = track_features[0]['acousticness']\n",
        "    danceability = track_features[0]['danceability']\n",
        "    energy = track_features[0]['energy']\n",
        "    instrumentalness = track_features[0]['instrumentalness']\n",
        "    liveness = track_features[0]['liveness']\n",
        "    loudness = track_features[0]['loudness']\n",
        "    speechiness = track_features[0]['speechiness']\n",
        "    tempo = track_features[0]['tempo']\n",
        "    time_signature = track_features[0]['time_signature']\n",
        "\n",
        "    track = [name,\n",
        "    album,\n",
        "    artist,\n",
        "    release_date,\n",
        "    length,\n",
        "    popularity,\n",
        "    acousticness,\n",
        "    danceability,\n",
        "    energy,\n",
        "    instrumentalness,\n",
        "    liveness,\n",
        "    loudness,\n",
        "    speechiness,\n",
        "    tempo,\n",
        "    time_signature]\n",
        "    \n",
        "    return track"
      ],
      "metadata": {
        "id": "8QLYm-wXI0cB"
      },
      "execution_count": null,
      "outputs": []
    },
    {
      "cell_type": "code",
      "source": [
        "# get tracks info\n",
        "track_list = []\n",
        "for i in range(len(track_ids)):\n",
        "    time.sleep(0.3) # 0.3 seconds to prevent many requests at same time\n",
        "    track_data = getTrackFeatures(track_ids[i])\n",
        "    track_list.append(track_data)\n",
        "\n",
        "df_new = pd.DataFrame(track_list, columns=columns)\n",
        "df_new"
      ],
      "metadata": {
        "colab": {
          "base_uri": "https://localhost:8080/",
          "height": 514
        },
        "id": "j7xYs40lI6Cf",
        "outputId": "3e62b860-ff4f-4e2b-cbdd-3f637879b419"
      },
      "execution_count": null,
      "outputs": [
        {
          "output_type": "execute_result",
          "data": {
            "text/plain": [
              "                                                Name  \\\n",
              "0                                     crossing field   \n",
              "1                      crossing field -English ver.-   \n",
              "2                                     Crossing Field   \n",
              "3           Crossing Field (From \"Sword Art Online\")   \n",
              "4           Crossing Field (From \"Sword Art Online\")   \n",
              "5                                    Crossing Fields   \n",
              "6  Crossing Field (From \"Sword Art Online\") [Open...   \n",
              "7                  Crossing Field (Sword Art Online)   \n",
              "8           Crossing Field (From \"Sword Art Online\")   \n",
              "\n",
              "                                            Album                Artist  \\\n",
              "0                                       LANDSPACE                  LiSA   \n",
              "1                                        Shirushi                  LiSA   \n",
              "2                                  Crossing Field  The Unknown Songbird   \n",
              "3        Crossing Field (From \"Sword Art Online\")     NateWantsToBattle   \n",
              "4                                      Link Start                AmaLee   \n",
              "5                                 Crossing Fields     Alive in the Dark   \n",
              "6  Anime Piano Music Collection in Spring, Vol. 3               Fonzi M   \n",
              "7                    Mattyyym Does Anime!, Vol. 2              Mattyyym   \n",
              "8             Ru's Piano Anime Collection, Vol. 1            Ru's Piano   \n",
              "\n",
              "  Release_date  Length  Popularity  Acousticness  Danceability  Energy  \\\n",
              "0   2013-10-30  248946          13      0.015700         0.447   0.983   \n",
              "1   2014-12-10  248600           0      0.076500         0.411   0.970   \n",
              "2   2018-03-19  245368          19      0.012100         0.496   0.714   \n",
              "3   2021-06-12  243519           0      0.000927         0.471   0.955   \n",
              "4   2016-03-30  245027           0      0.002890         0.387   0.917   \n",
              "5   2016-11-25  243168          14      0.000063         0.250   0.849   \n",
              "6   2019-04-13  248965           0      0.948000         0.513   0.378   \n",
              "7   2017-10-25   91343          14      0.000016         0.239   0.692   \n",
              "8   2021-01-21  239400          22      0.969000         0.448   0.389   \n",
              "\n",
              "   Instrumentalness  Liveness  Loudness  Speechiness    Tempo  Time_signature  \n",
              "0          0.000000     0.276    -2.281       0.2680  179.072               4  \n",
              "1          0.000000     0.341    -2.442       0.2860  179.102               4  \n",
              "2          0.000002     0.124    -7.578       0.0567  178.869               4  \n",
              "3          0.000000     0.334    -5.456       0.1290  178.952               4  \n",
              "4          0.000000     0.125    -4.276       0.2350  178.990               4  \n",
              "5          0.000004     0.357    -4.847       0.0537  180.086               4  \n",
              "6          0.944000     0.121   -16.195       0.0300   89.483               4  \n",
              "7          0.754000     0.128    -6.995       0.0403  178.952               4  \n",
              "8          0.830000     0.140   -12.961       0.0334   91.433               4  "
            ],
            "text/html": [
              "\n",
              "  <div id=\"df-2b6de722-7574-42ab-babe-e21cb3cac316\">\n",
              "    <div class=\"colab-df-container\">\n",
              "      <div>\n",
              "<style scoped>\n",
              "    .dataframe tbody tr th:only-of-type {\n",
              "        vertical-align: middle;\n",
              "    }\n",
              "\n",
              "    .dataframe tbody tr th {\n",
              "        vertical-align: top;\n",
              "    }\n",
              "\n",
              "    .dataframe thead th {\n",
              "        text-align: right;\n",
              "    }\n",
              "</style>\n",
              "<table border=\"1\" class=\"dataframe\">\n",
              "  <thead>\n",
              "    <tr style=\"text-align: right;\">\n",
              "      <th></th>\n",
              "      <th>Name</th>\n",
              "      <th>Album</th>\n",
              "      <th>Artist</th>\n",
              "      <th>Release_date</th>\n",
              "      <th>Length</th>\n",
              "      <th>Popularity</th>\n",
              "      <th>Acousticness</th>\n",
              "      <th>Danceability</th>\n",
              "      <th>Energy</th>\n",
              "      <th>Instrumentalness</th>\n",
              "      <th>Liveness</th>\n",
              "      <th>Loudness</th>\n",
              "      <th>Speechiness</th>\n",
              "      <th>Tempo</th>\n",
              "      <th>Time_signature</th>\n",
              "    </tr>\n",
              "  </thead>\n",
              "  <tbody>\n",
              "    <tr>\n",
              "      <th>0</th>\n",
              "      <td>crossing field</td>\n",
              "      <td>LANDSPACE</td>\n",
              "      <td>LiSA</td>\n",
              "      <td>2013-10-30</td>\n",
              "      <td>248946</td>\n",
              "      <td>13</td>\n",
              "      <td>0.015700</td>\n",
              "      <td>0.447</td>\n",
              "      <td>0.983</td>\n",
              "      <td>0.000000</td>\n",
              "      <td>0.276</td>\n",
              "      <td>-2.281</td>\n",
              "      <td>0.2680</td>\n",
              "      <td>179.072</td>\n",
              "      <td>4</td>\n",
              "    </tr>\n",
              "    <tr>\n",
              "      <th>1</th>\n",
              "      <td>crossing field -English ver.-</td>\n",
              "      <td>Shirushi</td>\n",
              "      <td>LiSA</td>\n",
              "      <td>2014-12-10</td>\n",
              "      <td>248600</td>\n",
              "      <td>0</td>\n",
              "      <td>0.076500</td>\n",
              "      <td>0.411</td>\n",
              "      <td>0.970</td>\n",
              "      <td>0.000000</td>\n",
              "      <td>0.341</td>\n",
              "      <td>-2.442</td>\n",
              "      <td>0.2860</td>\n",
              "      <td>179.102</td>\n",
              "      <td>4</td>\n",
              "    </tr>\n",
              "    <tr>\n",
              "      <th>2</th>\n",
              "      <td>Crossing Field</td>\n",
              "      <td>Crossing Field</td>\n",
              "      <td>The Unknown Songbird</td>\n",
              "      <td>2018-03-19</td>\n",
              "      <td>245368</td>\n",
              "      <td>19</td>\n",
              "      <td>0.012100</td>\n",
              "      <td>0.496</td>\n",
              "      <td>0.714</td>\n",
              "      <td>0.000002</td>\n",
              "      <td>0.124</td>\n",
              "      <td>-7.578</td>\n",
              "      <td>0.0567</td>\n",
              "      <td>178.869</td>\n",
              "      <td>4</td>\n",
              "    </tr>\n",
              "    <tr>\n",
              "      <th>3</th>\n",
              "      <td>Crossing Field (From \"Sword Art Online\")</td>\n",
              "      <td>Crossing Field (From \"Sword Art Online\")</td>\n",
              "      <td>NateWantsToBattle</td>\n",
              "      <td>2021-06-12</td>\n",
              "      <td>243519</td>\n",
              "      <td>0</td>\n",
              "      <td>0.000927</td>\n",
              "      <td>0.471</td>\n",
              "      <td>0.955</td>\n",
              "      <td>0.000000</td>\n",
              "      <td>0.334</td>\n",
              "      <td>-5.456</td>\n",
              "      <td>0.1290</td>\n",
              "      <td>178.952</td>\n",
              "      <td>4</td>\n",
              "    </tr>\n",
              "    <tr>\n",
              "      <th>4</th>\n",
              "      <td>Crossing Field (From \"Sword Art Online\")</td>\n",
              "      <td>Link Start</td>\n",
              "      <td>AmaLee</td>\n",
              "      <td>2016-03-30</td>\n",
              "      <td>245027</td>\n",
              "      <td>0</td>\n",
              "      <td>0.002890</td>\n",
              "      <td>0.387</td>\n",
              "      <td>0.917</td>\n",
              "      <td>0.000000</td>\n",
              "      <td>0.125</td>\n",
              "      <td>-4.276</td>\n",
              "      <td>0.2350</td>\n",
              "      <td>178.990</td>\n",
              "      <td>4</td>\n",
              "    </tr>\n",
              "    <tr>\n",
              "      <th>5</th>\n",
              "      <td>Crossing Fields</td>\n",
              "      <td>Crossing Fields</td>\n",
              "      <td>Alive in the Dark</td>\n",
              "      <td>2016-11-25</td>\n",
              "      <td>243168</td>\n",
              "      <td>14</td>\n",
              "      <td>0.000063</td>\n",
              "      <td>0.250</td>\n",
              "      <td>0.849</td>\n",
              "      <td>0.000004</td>\n",
              "      <td>0.357</td>\n",
              "      <td>-4.847</td>\n",
              "      <td>0.0537</td>\n",
              "      <td>180.086</td>\n",
              "      <td>4</td>\n",
              "    </tr>\n",
              "    <tr>\n",
              "      <th>6</th>\n",
              "      <td>Crossing Field (From \"Sword Art Online\") [Open...</td>\n",
              "      <td>Anime Piano Music Collection in Spring, Vol. 3</td>\n",
              "      <td>Fonzi M</td>\n",
              "      <td>2019-04-13</td>\n",
              "      <td>248965</td>\n",
              "      <td>0</td>\n",
              "      <td>0.948000</td>\n",
              "      <td>0.513</td>\n",
              "      <td>0.378</td>\n",
              "      <td>0.944000</td>\n",
              "      <td>0.121</td>\n",
              "      <td>-16.195</td>\n",
              "      <td>0.0300</td>\n",
              "      <td>89.483</td>\n",
              "      <td>4</td>\n",
              "    </tr>\n",
              "    <tr>\n",
              "      <th>7</th>\n",
              "      <td>Crossing Field (Sword Art Online)</td>\n",
              "      <td>Mattyyym Does Anime!, Vol. 2</td>\n",
              "      <td>Mattyyym</td>\n",
              "      <td>2017-10-25</td>\n",
              "      <td>91343</td>\n",
              "      <td>14</td>\n",
              "      <td>0.000016</td>\n",
              "      <td>0.239</td>\n",
              "      <td>0.692</td>\n",
              "      <td>0.754000</td>\n",
              "      <td>0.128</td>\n",
              "      <td>-6.995</td>\n",
              "      <td>0.0403</td>\n",
              "      <td>178.952</td>\n",
              "      <td>4</td>\n",
              "    </tr>\n",
              "    <tr>\n",
              "      <th>8</th>\n",
              "      <td>Crossing Field (From \"Sword Art Online\")</td>\n",
              "      <td>Ru's Piano Anime Collection, Vol. 1</td>\n",
              "      <td>Ru's Piano</td>\n",
              "      <td>2021-01-21</td>\n",
              "      <td>239400</td>\n",
              "      <td>22</td>\n",
              "      <td>0.969000</td>\n",
              "      <td>0.448</td>\n",
              "      <td>0.389</td>\n",
              "      <td>0.830000</td>\n",
              "      <td>0.140</td>\n",
              "      <td>-12.961</td>\n",
              "      <td>0.0334</td>\n",
              "      <td>91.433</td>\n",
              "      <td>4</td>\n",
              "    </tr>\n",
              "  </tbody>\n",
              "</table>\n",
              "</div>\n",
              "      <button class=\"colab-df-convert\" onclick=\"convertToInteractive('df-2b6de722-7574-42ab-babe-e21cb3cac316')\"\n",
              "              title=\"Convert this dataframe to an interactive table.\"\n",
              "              style=\"display:none;\">\n",
              "        \n",
              "  <svg xmlns=\"http://www.w3.org/2000/svg\" height=\"24px\"viewBox=\"0 0 24 24\"\n",
              "       width=\"24px\">\n",
              "    <path d=\"M0 0h24v24H0V0z\" fill=\"none\"/>\n",
              "    <path d=\"M18.56 5.44l.94 2.06.94-2.06 2.06-.94-2.06-.94-.94-2.06-.94 2.06-2.06.94zm-11 1L8.5 8.5l.94-2.06 2.06-.94-2.06-.94L8.5 2.5l-.94 2.06-2.06.94zm10 10l.94 2.06.94-2.06 2.06-.94-2.06-.94-.94-2.06-.94 2.06-2.06.94z\"/><path d=\"M17.41 7.96l-1.37-1.37c-.4-.4-.92-.59-1.43-.59-.52 0-1.04.2-1.43.59L10.3 9.45l-7.72 7.72c-.78.78-.78 2.05 0 2.83L4 21.41c.39.39.9.59 1.41.59.51 0 1.02-.2 1.41-.59l7.78-7.78 2.81-2.81c.8-.78.8-2.07 0-2.86zM5.41 20L4 18.59l7.72-7.72 1.47 1.35L5.41 20z\"/>\n",
              "  </svg>\n",
              "      </button>\n",
              "      \n",
              "  <style>\n",
              "    .colab-df-container {\n",
              "      display:flex;\n",
              "      flex-wrap:wrap;\n",
              "      gap: 12px;\n",
              "    }\n",
              "\n",
              "    .colab-df-convert {\n",
              "      background-color: #E8F0FE;\n",
              "      border: none;\n",
              "      border-radius: 50%;\n",
              "      cursor: pointer;\n",
              "      display: none;\n",
              "      fill: #1967D2;\n",
              "      height: 32px;\n",
              "      padding: 0 0 0 0;\n",
              "      width: 32px;\n",
              "    }\n",
              "\n",
              "    .colab-df-convert:hover {\n",
              "      background-color: #E2EBFA;\n",
              "      box-shadow: 0px 1px 2px rgba(60, 64, 67, 0.3), 0px 1px 3px 1px rgba(60, 64, 67, 0.15);\n",
              "      fill: #174EA6;\n",
              "    }\n",
              "\n",
              "    [theme=dark] .colab-df-convert {\n",
              "      background-color: #3B4455;\n",
              "      fill: #D2E3FC;\n",
              "    }\n",
              "\n",
              "    [theme=dark] .colab-df-convert:hover {\n",
              "      background-color: #434B5C;\n",
              "      box-shadow: 0px 1px 3px 1px rgba(0, 0, 0, 0.15);\n",
              "      filter: drop-shadow(0px 1px 2px rgba(0, 0, 0, 0.3));\n",
              "      fill: #FFFFFF;\n",
              "    }\n",
              "  </style>\n",
              "\n",
              "      <script>\n",
              "        const buttonEl =\n",
              "          document.querySelector('#df-2b6de722-7574-42ab-babe-e21cb3cac316 button.colab-df-convert');\n",
              "        buttonEl.style.display =\n",
              "          google.colab.kernel.accessAllowed ? 'block' : 'none';\n",
              "\n",
              "        async function convertToInteractive(key) {\n",
              "          const element = document.querySelector('#df-2b6de722-7574-42ab-babe-e21cb3cac316');\n",
              "          const dataTable =\n",
              "            await google.colab.kernel.invokeFunction('convertToInteractive',\n",
              "                                                     [key], {});\n",
              "          if (!dataTable) return;\n",
              "\n",
              "          const docLinkHtml = 'Like what you see? Visit the ' +\n",
              "            '<a target=\"_blank\" href=https://colab.research.google.com/notebooks/data_table.ipynb>data table notebook</a>'\n",
              "            + ' to learn more about interactive tables.';\n",
              "          element.innerHTML = '';\n",
              "          dataTable['output_type'] = 'display_data';\n",
              "          await google.colab.output.renderOutput(dataTable, element);\n",
              "          const docLink = document.createElement('div');\n",
              "          docLink.innerHTML = docLinkHtml;\n",
              "          element.appendChild(docLink);\n",
              "        }\n",
              "      </script>\n",
              "    </div>\n",
              "  </div>\n",
              "  "
            ]
          },
          "metadata": {},
          "execution_count": 41
        }
      ]
    },
    {
      "cell_type": "code",
      "source": [
        "df_new.info()"
      ],
      "metadata": {
        "colab": {
          "base_uri": "https://localhost:8080/"
        },
        "id": "rfYyILN3JBqx",
        "outputId": "da220d81-2889-4c7f-f445-42d7ea50b8fa"
      },
      "execution_count": null,
      "outputs": [
        {
          "output_type": "stream",
          "name": "stdout",
          "text": [
            "<class 'pandas.core.frame.DataFrame'>\n",
            "RangeIndex: 9 entries, 0 to 8\n",
            "Data columns (total 15 columns):\n",
            " #   Column            Non-Null Count  Dtype  \n",
            "---  ------            --------------  -----  \n",
            " 0   Name              9 non-null      object \n",
            " 1   Album             9 non-null      object \n",
            " 2   Artist            9 non-null      object \n",
            " 3   Release_date      9 non-null      object \n",
            " 4   Length            9 non-null      int64  \n",
            " 5   Popularity        9 non-null      int64  \n",
            " 6   Acousticness      9 non-null      float64\n",
            " 7   Danceability      9 non-null      float64\n",
            " 8   Energy            9 non-null      float64\n",
            " 9   Instrumentalness  9 non-null      float64\n",
            " 10  Liveness          9 non-null      float64\n",
            " 11  Loudness          9 non-null      float64\n",
            " 12  Speechiness       9 non-null      float64\n",
            " 13  Tempo             9 non-null      float64\n",
            " 14  Time_signature    9 non-null      int64  \n",
            "dtypes: float64(8), int64(3), object(4)\n",
            "memory usage: 1.2+ KB\n"
          ]
        }
      ]
    },
    {
      "cell_type": "markdown",
      "source": [
        "## EDA"
      ],
      "metadata": {
        "id": "BmTgAMEvKGD_"
      }
    },
    {
      "cell_type": "code",
      "source": [
        "df_new.Artist.value_counts()"
      ],
      "metadata": {
        "colab": {
          "base_uri": "https://localhost:8080/"
        },
        "id": "U_nn_jcTvK9y",
        "outputId": "503b5ff3-d5a9-4b5e-bd70-7f9f67feed67"
      },
      "execution_count": null,
      "outputs": [
        {
          "output_type": "execute_result",
          "data": {
            "text/plain": [
              "LiSA                    2\n",
              "The Unknown Songbird    1\n",
              "NateWantsToBattle       1\n",
              "AmaLee                  1\n",
              "Alive in the Dark       1\n",
              "Fonzi M                 1\n",
              "Mattyyym                1\n",
              "Ru's Piano              1\n",
              "Name: Artist, dtype: int64"
            ]
          },
          "metadata": {},
          "execution_count": 29
        }
      ]
    },
    {
      "cell_type": "code",
      "source": [
        "df_new.columns"
      ],
      "metadata": {
        "colab": {
          "base_uri": "https://localhost:8080/"
        },
        "id": "_76gVCgmvK6O",
        "outputId": "8e403ca4-94a8-409d-c14a-94103db576e3"
      },
      "execution_count": null,
      "outputs": [
        {
          "output_type": "execute_result",
          "data": {
            "text/plain": [
              "Index(['Name', 'Album', 'Artist', 'Release_date', 'Length', 'Popularity',\n",
              "       'Acousticness', 'Danceability', 'Energy', 'Instrumentalness',\n",
              "       'Liveness', 'Loudness', 'Speechiness', 'Tempo', 'Time_signature'],\n",
              "      dtype='object')"
            ]
          },
          "metadata": {},
          "execution_count": 34
        }
      ]
    },
    {
      "cell_type": "code",
      "source": [
        "import plotly.express as px\n",
        "fig = px.scatter(df_new, x=df_new['Tempo'], y=df_new['Danceability'], color=df_new['Popularity'], size=df_new['Popularity'], title='Song popularity')\n",
        "fig.show()"
      ],
      "metadata": {
        "colab": {
          "base_uri": "https://localhost:8080/",
          "height": 542
        },
        "id": "cmiKdrkTJN9a",
        "outputId": "bc330f41-631f-43d9-c097-1e955fed5d08"
      },
      "execution_count": null,
      "outputs": [
        {
          "output_type": "display_data",
          "data": {
            "text/html": [
              "<html>\n",
              "<head><meta charset=\"utf-8\" /></head>\n",
              "<body>\n",
              "    <div>            <script src=\"https://cdnjs.cloudflare.com/ajax/libs/mathjax/2.7.5/MathJax.js?config=TeX-AMS-MML_SVG\"></script><script type=\"text/javascript\">if (window.MathJax) {MathJax.Hub.Config({SVG: {font: \"STIX-Web\"}});}</script>                <script type=\"text/javascript\">window.PlotlyConfig = {MathJaxConfig: 'local'};</script>\n",
              "        <script src=\"https://cdn.plot.ly/plotly-2.8.3.min.js\"></script>                <div id=\"91fd5feb-8951-469b-99c3-1407a7672038\" class=\"plotly-graph-div\" style=\"height:525px; width:100%;\"></div>            <script type=\"text/javascript\">                                    window.PLOTLYENV=window.PLOTLYENV || {};                                    if (document.getElementById(\"91fd5feb-8951-469b-99c3-1407a7672038\")) {                    Plotly.newPlot(                        \"91fd5feb-8951-469b-99c3-1407a7672038\",                        [{\"hovertemplate\":\"Tempo=%{x}<br>Danceability=%{y}<br>Popularity=%{marker.color}<extra></extra>\",\"legendgroup\":\"\",\"marker\":{\"color\":[13,0,19,0,0,14,0,14,22],\"coloraxis\":\"coloraxis\",\"size\":[13,0,19,0,0,14,0,14,22],\"sizemode\":\"area\",\"sizeref\":0.055,\"symbol\":\"circle\"},\"mode\":\"markers\",\"name\":\"\",\"orientation\":\"v\",\"showlegend\":false,\"x\":[179.072,179.102,178.869,178.952,178.99,180.086,89.483,178.952,91.433],\"xaxis\":\"x\",\"y\":[0.447,0.411,0.496,0.471,0.387,0.25,0.513,0.239,0.448],\"yaxis\":\"y\",\"type\":\"scatter\"}],                        {\"template\":{\"data\":{\"bar\":[{\"error_x\":{\"color\":\"#2a3f5f\"},\"error_y\":{\"color\":\"#2a3f5f\"},\"marker\":{\"line\":{\"color\":\"#E5ECF6\",\"width\":0.5},\"pattern\":{\"fillmode\":\"overlay\",\"size\":10,\"solidity\":0.2}},\"type\":\"bar\"}],\"barpolar\":[{\"marker\":{\"line\":{\"color\":\"#E5ECF6\",\"width\":0.5},\"pattern\":{\"fillmode\":\"overlay\",\"size\":10,\"solidity\":0.2}},\"type\":\"barpolar\"}],\"carpet\":[{\"aaxis\":{\"endlinecolor\":\"#2a3f5f\",\"gridcolor\":\"white\",\"linecolor\":\"white\",\"minorgridcolor\":\"white\",\"startlinecolor\":\"#2a3f5f\"},\"baxis\":{\"endlinecolor\":\"#2a3f5f\",\"gridcolor\":\"white\",\"linecolor\":\"white\",\"minorgridcolor\":\"white\",\"startlinecolor\":\"#2a3f5f\"},\"type\":\"carpet\"}],\"choropleth\":[{\"colorbar\":{\"outlinewidth\":0,\"ticks\":\"\"},\"type\":\"choropleth\"}],\"contour\":[{\"colorbar\":{\"outlinewidth\":0,\"ticks\":\"\"},\"colorscale\":[[0.0,\"#0d0887\"],[0.1111111111111111,\"#46039f\"],[0.2222222222222222,\"#7201a8\"],[0.3333333333333333,\"#9c179e\"],[0.4444444444444444,\"#bd3786\"],[0.5555555555555556,\"#d8576b\"],[0.6666666666666666,\"#ed7953\"],[0.7777777777777778,\"#fb9f3a\"],[0.8888888888888888,\"#fdca26\"],[1.0,\"#f0f921\"]],\"type\":\"contour\"}],\"contourcarpet\":[{\"colorbar\":{\"outlinewidth\":0,\"ticks\":\"\"},\"type\":\"contourcarpet\"}],\"heatmap\":[{\"colorbar\":{\"outlinewidth\":0,\"ticks\":\"\"},\"colorscale\":[[0.0,\"#0d0887\"],[0.1111111111111111,\"#46039f\"],[0.2222222222222222,\"#7201a8\"],[0.3333333333333333,\"#9c179e\"],[0.4444444444444444,\"#bd3786\"],[0.5555555555555556,\"#d8576b\"],[0.6666666666666666,\"#ed7953\"],[0.7777777777777778,\"#fb9f3a\"],[0.8888888888888888,\"#fdca26\"],[1.0,\"#f0f921\"]],\"type\":\"heatmap\"}],\"heatmapgl\":[{\"colorbar\":{\"outlinewidth\":0,\"ticks\":\"\"},\"colorscale\":[[0.0,\"#0d0887\"],[0.1111111111111111,\"#46039f\"],[0.2222222222222222,\"#7201a8\"],[0.3333333333333333,\"#9c179e\"],[0.4444444444444444,\"#bd3786\"],[0.5555555555555556,\"#d8576b\"],[0.6666666666666666,\"#ed7953\"],[0.7777777777777778,\"#fb9f3a\"],[0.8888888888888888,\"#fdca26\"],[1.0,\"#f0f921\"]],\"type\":\"heatmapgl\"}],\"histogram\":[{\"marker\":{\"pattern\":{\"fillmode\":\"overlay\",\"size\":10,\"solidity\":0.2}},\"type\":\"histogram\"}],\"histogram2d\":[{\"colorbar\":{\"outlinewidth\":0,\"ticks\":\"\"},\"colorscale\":[[0.0,\"#0d0887\"],[0.1111111111111111,\"#46039f\"],[0.2222222222222222,\"#7201a8\"],[0.3333333333333333,\"#9c179e\"],[0.4444444444444444,\"#bd3786\"],[0.5555555555555556,\"#d8576b\"],[0.6666666666666666,\"#ed7953\"],[0.7777777777777778,\"#fb9f3a\"],[0.8888888888888888,\"#fdca26\"],[1.0,\"#f0f921\"]],\"type\":\"histogram2d\"}],\"histogram2dcontour\":[{\"colorbar\":{\"outlinewidth\":0,\"ticks\":\"\"},\"colorscale\":[[0.0,\"#0d0887\"],[0.1111111111111111,\"#46039f\"],[0.2222222222222222,\"#7201a8\"],[0.3333333333333333,\"#9c179e\"],[0.4444444444444444,\"#bd3786\"],[0.5555555555555556,\"#d8576b\"],[0.6666666666666666,\"#ed7953\"],[0.7777777777777778,\"#fb9f3a\"],[0.8888888888888888,\"#fdca26\"],[1.0,\"#f0f921\"]],\"type\":\"histogram2dcontour\"}],\"mesh3d\":[{\"colorbar\":{\"outlinewidth\":0,\"ticks\":\"\"},\"type\":\"mesh3d\"}],\"parcoords\":[{\"line\":{\"colorbar\":{\"outlinewidth\":0,\"ticks\":\"\"}},\"type\":\"parcoords\"}],\"pie\":[{\"automargin\":true,\"type\":\"pie\"}],\"scatter\":[{\"marker\":{\"colorbar\":{\"outlinewidth\":0,\"ticks\":\"\"}},\"type\":\"scatter\"}],\"scatter3d\":[{\"line\":{\"colorbar\":{\"outlinewidth\":0,\"ticks\":\"\"}},\"marker\":{\"colorbar\":{\"outlinewidth\":0,\"ticks\":\"\"}},\"type\":\"scatter3d\"}],\"scattercarpet\":[{\"marker\":{\"colorbar\":{\"outlinewidth\":0,\"ticks\":\"\"}},\"type\":\"scattercarpet\"}],\"scattergeo\":[{\"marker\":{\"colorbar\":{\"outlinewidth\":0,\"ticks\":\"\"}},\"type\":\"scattergeo\"}],\"scattergl\":[{\"marker\":{\"colorbar\":{\"outlinewidth\":0,\"ticks\":\"\"}},\"type\":\"scattergl\"}],\"scattermapbox\":[{\"marker\":{\"colorbar\":{\"outlinewidth\":0,\"ticks\":\"\"}},\"type\":\"scattermapbox\"}],\"scatterpolar\":[{\"marker\":{\"colorbar\":{\"outlinewidth\":0,\"ticks\":\"\"}},\"type\":\"scatterpolar\"}],\"scatterpolargl\":[{\"marker\":{\"colorbar\":{\"outlinewidth\":0,\"ticks\":\"\"}},\"type\":\"scatterpolargl\"}],\"scatterternary\":[{\"marker\":{\"colorbar\":{\"outlinewidth\":0,\"ticks\":\"\"}},\"type\":\"scatterternary\"}],\"surface\":[{\"colorbar\":{\"outlinewidth\":0,\"ticks\":\"\"},\"colorscale\":[[0.0,\"#0d0887\"],[0.1111111111111111,\"#46039f\"],[0.2222222222222222,\"#7201a8\"],[0.3333333333333333,\"#9c179e\"],[0.4444444444444444,\"#bd3786\"],[0.5555555555555556,\"#d8576b\"],[0.6666666666666666,\"#ed7953\"],[0.7777777777777778,\"#fb9f3a\"],[0.8888888888888888,\"#fdca26\"],[1.0,\"#f0f921\"]],\"type\":\"surface\"}],\"table\":[{\"cells\":{\"fill\":{\"color\":\"#EBF0F8\"},\"line\":{\"color\":\"white\"}},\"header\":{\"fill\":{\"color\":\"#C8D4E3\"},\"line\":{\"color\":\"white\"}},\"type\":\"table\"}]},\"layout\":{\"annotationdefaults\":{\"arrowcolor\":\"#2a3f5f\",\"arrowhead\":0,\"arrowwidth\":1},\"autotypenumbers\":\"strict\",\"coloraxis\":{\"colorbar\":{\"outlinewidth\":0,\"ticks\":\"\"}},\"colorscale\":{\"diverging\":[[0,\"#8e0152\"],[0.1,\"#c51b7d\"],[0.2,\"#de77ae\"],[0.3,\"#f1b6da\"],[0.4,\"#fde0ef\"],[0.5,\"#f7f7f7\"],[0.6,\"#e6f5d0\"],[0.7,\"#b8e186\"],[0.8,\"#7fbc41\"],[0.9,\"#4d9221\"],[1,\"#276419\"]],\"sequential\":[[0.0,\"#0d0887\"],[0.1111111111111111,\"#46039f\"],[0.2222222222222222,\"#7201a8\"],[0.3333333333333333,\"#9c179e\"],[0.4444444444444444,\"#bd3786\"],[0.5555555555555556,\"#d8576b\"],[0.6666666666666666,\"#ed7953\"],[0.7777777777777778,\"#fb9f3a\"],[0.8888888888888888,\"#fdca26\"],[1.0,\"#f0f921\"]],\"sequentialminus\":[[0.0,\"#0d0887\"],[0.1111111111111111,\"#46039f\"],[0.2222222222222222,\"#7201a8\"],[0.3333333333333333,\"#9c179e\"],[0.4444444444444444,\"#bd3786\"],[0.5555555555555556,\"#d8576b\"],[0.6666666666666666,\"#ed7953\"],[0.7777777777777778,\"#fb9f3a\"],[0.8888888888888888,\"#fdca26\"],[1.0,\"#f0f921\"]]},\"colorway\":[\"#636efa\",\"#EF553B\",\"#00cc96\",\"#ab63fa\",\"#FFA15A\",\"#19d3f3\",\"#FF6692\",\"#B6E880\",\"#FF97FF\",\"#FECB52\"],\"font\":{\"color\":\"#2a3f5f\"},\"geo\":{\"bgcolor\":\"white\",\"lakecolor\":\"white\",\"landcolor\":\"#E5ECF6\",\"showlakes\":true,\"showland\":true,\"subunitcolor\":\"white\"},\"hoverlabel\":{\"align\":\"left\"},\"hovermode\":\"closest\",\"mapbox\":{\"style\":\"light\"},\"paper_bgcolor\":\"white\",\"plot_bgcolor\":\"#E5ECF6\",\"polar\":{\"angularaxis\":{\"gridcolor\":\"white\",\"linecolor\":\"white\",\"ticks\":\"\"},\"bgcolor\":\"#E5ECF6\",\"radialaxis\":{\"gridcolor\":\"white\",\"linecolor\":\"white\",\"ticks\":\"\"}},\"scene\":{\"xaxis\":{\"backgroundcolor\":\"#E5ECF6\",\"gridcolor\":\"white\",\"gridwidth\":2,\"linecolor\":\"white\",\"showbackground\":true,\"ticks\":\"\",\"zerolinecolor\":\"white\"},\"yaxis\":{\"backgroundcolor\":\"#E5ECF6\",\"gridcolor\":\"white\",\"gridwidth\":2,\"linecolor\":\"white\",\"showbackground\":true,\"ticks\":\"\",\"zerolinecolor\":\"white\"},\"zaxis\":{\"backgroundcolor\":\"#E5ECF6\",\"gridcolor\":\"white\",\"gridwidth\":2,\"linecolor\":\"white\",\"showbackground\":true,\"ticks\":\"\",\"zerolinecolor\":\"white\"}},\"shapedefaults\":{\"line\":{\"color\":\"#2a3f5f\"}},\"ternary\":{\"aaxis\":{\"gridcolor\":\"white\",\"linecolor\":\"white\",\"ticks\":\"\"},\"baxis\":{\"gridcolor\":\"white\",\"linecolor\":\"white\",\"ticks\":\"\"},\"bgcolor\":\"#E5ECF6\",\"caxis\":{\"gridcolor\":\"white\",\"linecolor\":\"white\",\"ticks\":\"\"}},\"title\":{\"x\":0.05},\"xaxis\":{\"automargin\":true,\"gridcolor\":\"white\",\"linecolor\":\"white\",\"ticks\":\"\",\"title\":{\"standoff\":15},\"zerolinecolor\":\"white\",\"zerolinewidth\":2},\"yaxis\":{\"automargin\":true,\"gridcolor\":\"white\",\"linecolor\":\"white\",\"ticks\":\"\",\"title\":{\"standoff\":15},\"zerolinecolor\":\"white\",\"zerolinewidth\":2}}},\"xaxis\":{\"anchor\":\"y\",\"domain\":[0.0,1.0],\"title\":{\"text\":\"Tempo\"}},\"yaxis\":{\"anchor\":\"x\",\"domain\":[0.0,1.0],\"title\":{\"text\":\"Danceability\"}},\"coloraxis\":{\"colorbar\":{\"title\":{\"text\":\"Popularity\"}},\"colorscale\":[[0.0,\"#0d0887\"],[0.1111111111111111,\"#46039f\"],[0.2222222222222222,\"#7201a8\"],[0.3333333333333333,\"#9c179e\"],[0.4444444444444444,\"#bd3786\"],[0.5555555555555556,\"#d8576b\"],[0.6666666666666666,\"#ed7953\"],[0.7777777777777778,\"#fb9f3a\"],[0.8888888888888888,\"#fdca26\"],[1.0,\"#f0f921\"]]},\"legend\":{\"tracegroupgap\":0,\"itemsizing\":\"constant\"},\"title\":{\"text\":\"Song popularity\"}},                        {\"responsive\": true}                    ).then(function(){\n",
              "                            \n",
              "var gd = document.getElementById('91fd5feb-8951-469b-99c3-1407a7672038');\n",
              "var x = new MutationObserver(function (mutations, observer) {{\n",
              "        var display = window.getComputedStyle(gd).display;\n",
              "        if (!display || display === 'none') {{\n",
              "            console.log([gd, 'removed!']);\n",
              "            Plotly.purge(gd);\n",
              "            observer.disconnect();\n",
              "        }}\n",
              "}});\n",
              "\n",
              "// Listen for the removal of the full notebook cells\n",
              "var notebookContainer = gd.closest('#notebook-container');\n",
              "if (notebookContainer) {{\n",
              "    x.observe(notebookContainer, {childList: true});\n",
              "}}\n",
              "\n",
              "// Listen for the clearing of the current output cell\n",
              "var outputEl = gd.closest('.output');\n",
              "if (outputEl) {{\n",
              "    x.observe(outputEl, {childList: true});\n",
              "}}\n",
              "\n",
              "                        })                };                            </script>        </div>\n",
              "</body>\n",
              "</html>"
            ]
          },
          "metadata": {}
        }
      ]
    },
    {
      "cell_type": "code",
      "source": [
        "sns.pairplot(df_new)\n",
        "plt.show()"
      ],
      "metadata": {
        "colab": {
          "base_uri": "https://localhost:8080/",
          "height": 1000
        },
        "id": "qQLvihJUzyvE",
        "outputId": "5cfea2a0-c3b7-4068-ec3d-700fdee1a373"
      },
      "execution_count": null,
      "outputs": [
        {
          "output_type": "display_data",
          "data": {
            "text/plain": [
              "<Figure size 1980x1980 with 132 Axes>"
            ],
            "image/png": "[encoded data removed]"
          },
          "metadata": {
            "needs_background": "light"
          }
        }
      ]
    },
    {
      "cell_type": "code",
      "source": [],
      "metadata": {
        "id": "24rIK1493O2N"
      },
      "execution_count": null,
      "outputs": []
    }
  ]
}